{
 "cells": [
  {
   "cell_type": "markdown",
   "metadata": {},
   "source": [
    "# 洛谷刷题笔记——Python\n",
    "包含B2100-B2148题目的代码。"
   ]
  },
  {
   "cell_type": "code",
   "execution_count": 4,
   "metadata": {},
   "outputs": [
    {
     "name": "stdout",
     "output_type": "stream",
     "text": [
      "15\n"
     ]
    }
   ],
   "source": [
    "# B2101 计算矩阵边缘元素之和\n",
    "# https://www.luogu.com.cn/problem/B2101\n",
    "\n",
    "m,n = map(int,input().split())\n",
    "\n",
    "matrix = []\n",
    "for i in range(0,m):\n",
    "    matrix.append(list(map(int,input().split())))\n",
    "    if len(matrix[i])!= n:\n",
    "        exit()\n",
    "\n",
    "# m,n = 3,3\n",
    "# matrix = [[3, 4, 1], [3, 7, 1], [2, 0, 1]]\n",
    "\n",
    "edg_sum = 0\n",
    "for i in range(m):\n",
    "    for j in range(n):\n",
    "        if i == 0 or i == m-1 or j == 0 or j == n-1:\n",
    "            edg_sum += matrix[i][j]\n",
    "\n",
    "print(edg_sum)    "
   ]
  },
  {
   "cell_type": "code",
   "execution_count": 50,
   "metadata": {},
   "outputs": [
    {
     "name": "stdout",
     "output_type": "stream",
     "text": [
      "4 1 8\n"
     ]
    }
   ],
   "source": [
    "# B2102 计算鞍点\n",
    "# https://www.luogu.com.cn/problem/B2102\n",
    "\n",
    "def find_saddle_points(matrix):\n",
    "    saddle_points = []\n",
    "    row_max = [max(matrix[i]) for i in range(len(matrix))]\n",
    "    col_min = [min(matrix[i][j] for i in range(len(matrix))) for j in range(len(matrix[0]))]\n",
    "    for i in range(len(matrix)):\n",
    "        for j in range(len(matrix[0])):\n",
    "            if matrix[i][j] == row_max[i] and matrix[i][j] == col_min[j]:\n",
    "                saddle_points.append((i+1,j+1,matrix[i][j]))\n",
    "    return saddle_points\n",
    "\n",
    "if __name__ == \"__main__\":\n",
    "    # matrix = [[11,3,5,6,9],[12,4,7,8,10],[10,5,6,9,11],[8,6,4,7,2],[15,10,11,20,25]]\n",
    "\n",
    "    matrix = []\n",
    "    for _ in range(5):\n",
    "        row = list(map(int, input().split()))\n",
    "        matrix.append(row)\n",
    "    try:\n",
    "        saddle_points = find_saddle_points(matrix)  # 查找鞍点\n",
    "        if not saddle_points:\n",
    "            print(\"not found\")\n",
    "        else:\n",
    "            x, y, value = saddle_points[0]  # 只输出找到的第一个鞍点\n",
    "            print(x, y, value)\n",
    "    except ValueError as e:\n",
    "        print(e)"
   ]
  },
  {
   "cell_type": "code",
   "execution_count": 58,
   "metadata": {},
   "outputs": [
    {
     "name": "stdout",
     "output_type": "stream",
     "text": [
      "44.44%\n"
     ]
    }
   ],
   "source": [
    "# B2103 图像相似度\n",
    "# https://www.luogu.com.cn/problem/B2103\n",
    "\n",
    "# m,n = 3,3\n",
    "# imag1 = [[1,0,1],[0,0,1],[1,1,0]]\n",
    "# imag2 = [[1,1,0],[0,0,1],[0,0,1]]\n",
    "\n",
    "def similarity(imag1, imag2):\n",
    "    count_same = 0\n",
    "    count_total = m*n\n",
    "    for i in range(m):\n",
    "        for j in range(n):\n",
    "            if imag1[i][j] == imag2[i][j]:\n",
    "                count_same += 1\n",
    "    return count_same/count_total\n",
    "\n",
    "if __name__ == '__main__':\n",
    "    m,n = map(int, input().split())\n",
    "    imag1 = []\n",
    "    imag2 = []\n",
    "    for i in range(m):\n",
    "        imag1.append(list(map(int, input().split())))\n",
    "    for i in range(m):\n",
    "        imag2.append(list(map(int, input().split())))\n",
    "    print(\"{:.2f}\".format(similarity(imag1, imag2)*100))"
   ]
  },
  {
   "cell_type": "code",
   "execution_count": null,
   "metadata": {},
   "outputs": [],
   "source": [
    "# B2104 矩阵加法\n",
    "# https://www.luogu.com.cn/problem/B2104\n",
    "\n",
    "def matrix_add(a, b):\n",
    "    for i in range(len(a)):\n",
    "        for j in range(len(a[0])):\n",
    "            a[i][j] += b[i][j]\n",
    "    return a\n",
    "if __name__ == '__main__':\n",
    "    n,m = map(int, input().split())\n",
    "    a = []\n",
    "    b = []\n",
    "    for i in range(n):\n",
    "        a.append(list(map(int, input().split())))\n",
    "    for i in range(n):\n",
    "        b.append(list(map(int, input().split())))\n",
    "    c = matrix_add(a, b)\n",
    "    for i in range(n):\n",
    "        print(*c[i])"
   ]
  },
  {
   "cell_type": "code",
   "execution_count": 67,
   "metadata": {},
   "outputs": [
    {
     "name": "stdout",
     "output_type": "stream",
     "text": [
      "2 2 2 \n",
      "2 2 2 \n",
      "2 2 2 \n"
     ]
    }
   ],
   "source": [
    "# B2105 矩阵乘法\n",
    "# https://www.luogu.com.cn/problem/B2105\n",
    "\n",
    "def matrix_multiply(a, b, n, m, L):\n",
    "    c = [[0]*L for i in range(n)]\n",
    "    for i in range(n):\n",
    "        for j in range(m):\n",
    "            for k in range(L):\n",
    "                c[i][k] += a[i][j] * b[j][k]\n",
    "    return c\n",
    "\n",
    "if __name__ == '__main__':\n",
    "    n,m,L = map(int, input().split())\n",
    "    a = []\n",
    "    b = []\n",
    "\n",
    "    # n,m,L = 3,2,3\n",
    "    # a = [[1 ,1],[1,1],[1,1]]\n",
    "    # b = [[1 ,1 ,1],[1 ,1 ,1]]\n",
    "    for i in range(n):\n",
    "        a.append(list(map(int, input().split())))    \n",
    "    for i in range(m):\n",
    "        b.append(list(map(int, input().split())))\n",
    "    c = matrix_multiply(a, b, n, m, L)\n",
    "    for i in range(n):\n",
    "        for j in range(L):\n",
    "            print(c[i][j], end=' ')\n",
    "        print()"
   ]
  },
  {
   "cell_type": "code",
   "execution_count": 69,
   "metadata": {},
   "outputs": [
    {
     "name": "stdout",
     "output_type": "stream",
     "text": [
      "1 4 7 \n",
      "2 5 8 \n",
      "3 6 9 \n"
     ]
    }
   ],
   "source": [
    "# B2106 矩阵转置\n",
    "# https://www.luogu.com.cn/problem/B2106\n",
    "\n",
    "def transpose(matrix,n,m):\n",
    "    c = [[0]*n for i in range(m)]\n",
    "    for i in range(n):\n",
    "        for j in range(m):\n",
    "            c[j][i] = matrix[i][j]\n",
    "    return c\n",
    "    \n",
    "\n",
    "if __name__ == '__main__':\n",
    "    n,m = map(int,input().split())\n",
    "    matrix = []\n",
    "    for i in range(n):\n",
    "        matrix.append(list(map(int,input().split())))\n",
    "\n",
    "    # n,m = 3,3\n",
    "    # matrix = [[1,2,3],[4,5,6],[7,8,9]]\n",
    "\n",
    "    c = transpose(matrix,n,m)\n",
    "    for i in range(m):\n",
    "        print(' '.join(map(str, c[i])))"
   ]
  },
  {
   "cell_type": "code",
   "execution_count": 82,
   "metadata": {},
   "outputs": [
    {
     "name": "stdout",
     "output_type": "stream",
     "text": [
      "10 7 4 1\n",
      "11 8 5 2\n",
      "12 9 6 3\n"
     ]
    }
   ],
   "source": [
    "# B2107 图像旋转\n",
    "# https://www.luogu.com.cn/problem/B2107\n",
    "def rotate(img,n,m):\n",
    "    c = [[0]*n for i in range(m)]\n",
    "    for i in range(n):\n",
    "        for j in range(m):\n",
    "            c[j][n-1-i] = img[i][j]     \n",
    "    return c\n",
    "\n",
    "\n",
    "if __name__ == '__main__':\n",
    "    # n,m = map(int,input().split())\n",
    "    # matrix = []\n",
    "    # for i in range(n):\n",
    "    #     matrix.append(list(map(int,input().split())))\n",
    "\n",
    "    # n,m = 4,3\n",
    "    # matrix = [[1,2,3],[4,5,6],[7,8,9],[10,11,12]]\n",
    "\n",
    "    c = rotate(matrix,n,m)\n",
    "    for i in range(m):\n",
    "        print(' '.join(map(str, c[i])))"
   ]
  },
  {
   "cell_type": "code",
   "execution_count": 91,
   "metadata": {},
   "outputs": [
    {
     "name": "stdout",
     "output_type": "stream",
     "text": [
      "100 0 100 0 50\n",
      "50 80 100 60 0\n",
      "50 80 100 90 200\n",
      "100 100 50 50 100\n"
     ]
    }
   ],
   "source": [
    "# B2108 图像模糊处理\n",
    "# https://www.luogu.com.cn/problem/B2108\n",
    "\n",
    "def blur(img,n,m):\n",
    "    c = [[0]*m for i in range(n)]\n",
    "    for i in range(n):\n",
    "        for j in range(m):\n",
    "            if i == 0 or i == n-1 or j == 0 or j == m-1:\n",
    "                c[i][j] = img[i][j]\n",
    "            else:\n",
    "                c[i][j] = round((img[i-1][j] + img[i+1][j] + img[i][j-1] + img[i][j+1]+img[i][j])/5)\n",
    "    return c\n",
    "if __name__ == '__main__':\n",
    "    # n,m = map(int,input().split())\n",
    "    # img = []\n",
    "    # for i in range(n):\n",
    "    #     img.append(list(map(int,input().split())))\n",
    "\n",
    "    n, m = 4, 5\n",
    "    img = [[100, 0, 100, 0, 50],\n",
    "              [50, 100, 200, 0, 0],\n",
    "              [50, 50, 100, 100, 200],\n",
    "              [100, 100, 50, 50, 100]]\n",
    "    \n",
    "    img = blur(img,n,m)\n",
    "    for i in range(n):\n",
    "        print(' '.join(map(str,img[i])))"
   ]
  },
  {
   "cell_type": "code",
   "execution_count": 1,
   "metadata": {},
   "outputs": [
    {
     "name": "stdout",
     "output_type": "stream",
     "text": [
      "8\n"
     ]
    }
   ],
   "source": [
    "# B2109 统计数字字符个数\n",
    "# https://www.luogu.com.cn/problem/B2109\n",
    "\n",
    "def count_digit(strings):\n",
    "    count = 0\n",
    "    digit = '0123456789'\n",
    "    for s in strings:\n",
    "        if s in digit:\n",
    "            count += 1\n",
    "    return count\n",
    "\n",
    "if __name__ == '__main__':\n",
    "    # strings = 'Today is 2021-03-27'\n",
    "    strings = input()\n",
    "    print(count_digit(strings))"
   ]
  },
  {
   "cell_type": "code",
   "execution_count": 9,
   "metadata": {},
   "outputs": [
    {
     "name": "stdout",
     "output_type": "stream",
     "text": [
      "c\n"
     ]
    }
   ],
   "source": [
    "# B2110 找第一个只出现一次的字符\n",
    "# https://www.luogu.com.cn/problem/B2110\n",
    "\n",
    "def count_str_char(str):\n",
    "    char_set = set(str)\n",
    "    count_ = []\n",
    "    for char in char_set:\n",
    "        if str.count(char) == 1:\n",
    "            count_.append(char)\n",
    "    if len(count_) == 0:\n",
    "        return None\n",
    "    else:\n",
    "        min_index = str.index(count_[0])\n",
    "        for char in count_:\n",
    "            if str.index(char) < min_index:\n",
    "                min_index = str.index(char)\n",
    "        return str[min_index]\n",
    "\n",
    "\n",
    "\n",
    "if __name__ == '__main__':\n",
    "    # str = input()\n",
    "    str = 'abcabd'\n",
    "    # str = 'aabbcc'\n",
    "    if count_str_char(str) is None:\n",
    "        print('no')\n",
    "    else:\n",
    "        print(count_str_char(str))\n"
   ]
  },
  {
   "cell_type": "code",
   "execution_count": 14,
   "metadata": {},
   "outputs": [
    {
     "name": "stdout",
     "output_type": "stream",
     "text": [
      "yes\n"
     ]
    }
   ],
   "source": [
    "# B2111 基因相关性\n",
    "# https://www.luogu.com.cn/problem/P2111\n",
    "\n",
    "def get_related_genes(related_rate, gene_list1, gene_list2):\n",
    "    count = 0\n",
    "    for index in range(len(gene_list1)):\n",
    "        if gene_list1[index] == gene_list2[index]:\n",
    "            count += 1\n",
    "    if count/len(gene_list1) >= related_rate:\n",
    "        print(\"yes\")\n",
    "    else:\n",
    "        print(\"no\")\n",
    "\n",
    "if __name__ == '__main__':\n",
    "    # related_rate = float(input())\n",
    "    # gene_list1 = input()\n",
    "    # gene_list2 = input()\n",
    "\n",
    "    related_rate = 0.85\n",
    "    gene_list1 = \"ATCGCCGTAAGTAACGGTTTTAAATAGGCC\"\n",
    "    gene_list2 = \"ATCGCCGGAAGTAACGGTCTTAAATAGGCC\"\n",
    "\n",
    "\n",
    "    get_related_genes(related_rate, gene_list1, gene_list2)\n"
   ]
  },
  {
   "cell_type": "code",
   "execution_count": 18,
   "metadata": {},
   "outputs": [
    {
     "name": "stdout",
     "output_type": "stream",
     "text": [
      "Player1\n",
      "Player1\n"
     ]
    }
   ],
   "source": [
    "# B2112 石头剪子布\n",
    "# https://www.luogu.com.cn/problem/B2112\n",
    "def stone_paper_scissors(S1, S2):\n",
    "    if S1 == S2:\n",
    "        print(\"Tie\")\n",
    "    elif S1 == \"Rock\" and S2 == \"Scissors\" \\\n",
    "        or S1 == \"Paper\" and S2 == \"Rock\" \\\n",
    "            or S1 == \"Scissors\" and S2 == \"Paper\":\n",
    "       print(\"Player1\")\n",
    "    else:\n",
    "        print(\"Player2\")\n",
    "    \n",
    "if __name__ == '__main__':\n",
    "    # n = int(input())\n",
    "    # for i in range(n):\n",
    "    #     S1, S2 = input().split()\n",
    "    #     stone_paper_scissors(S1, S2)\n",
    "    # stone_paper_scissors(\"stone\", \"scissors\")\n",
    "    # stone_paper_scissors(\"paper\", \"stone\")"
   ]
  },
  {
   "cell_type": "code",
   "execution_count": 26,
   "metadata": {},
   "outputs": [
    {
     "name": "stdout",
     "output_type": "stream",
     "text": [
      "cege\n"
     ]
    }
   ],
   "source": [
    "# B2113 输出亲朋字符串\n",
    "# https://www.luogu.com.cn/problem/B2113\n",
    "\n",
    "def find_friends(str1):\n",
    "    str1 = str1 + str1[0]\n",
    "    n = len(str1)\n",
    "    res = []\n",
    "    for i in range(n-1):\n",
    "        ascii_sum = ord(str1[i]) + ord(str1[i+1])\n",
    "        res.append(chr(ascii_sum))\n",
    "    return res\n",
    "\n",
    "if __name__ == '__main__':\n",
    "    str1 = input()\n",
    "    # str1 = '1234'\n",
    "    res = find_friends(str1)\n",
    "    print(''.join(res)) "
   ]
  },
  {
   "cell_type": "code",
   "execution_count": 41,
   "metadata": {},
   "outputs": [
    {
     "name": "stdout",
     "output_type": "stream",
     "text": [
      "TATACCTACCACAAACCGAGAC\n"
     ]
    }
   ],
   "source": [
    "# B2114 配对碱基链\n",
    "# https://www.luogu.com.cn/problem/P2114\n",
    "\n",
    "def base_pair(base_chain):\n",
    "\n",
    "    base_pair_dict = {'A': 'T', 'T': 'A', 'C': 'G', 'G': 'C'}\n",
    "    base_pair_list = []\n",
    "    for i in base_chain:\n",
    "        base_pair_list.append(base_pair_dict.get(i))\n",
    "    return base_pair_list\n",
    "if __name__ == '__main__':\n",
    "    # base_chain = input()\n",
    "    base_chain = 'ATATGGATGGTGTTTGGCTCTG'\n",
    "    base_pair_list = base_pair(base_chain)\n",
    "\n",
    "    print(''.join(base_pair_list))"
   ]
  },
  {
   "cell_type": "code",
   "execution_count": 48,
   "metadata": {},
   "outputs": [
    {
     "name": "stdout",
     "output_type": "stream",
     "text": [
      "Hello !  How  are  you!\n"
     ]
    }
   ],
   "source": [
    "# B2115 密码翻译\n",
    "# https://www.luogu.com.cn/problem/P2115\n",
    "\n",
    "def translate(strings):\n",
    "    result = []\n",
    "    for char in strings:\n",
    "        if char in 'bcdefghijklmnopqrstuvwxyz' or char in 'BCDEFGHIJKLMNOPQRSTUVWXYZ':\n",
    "            result.append( chr(ord(char) - 1 ))\n",
    "        elif char in 'A':\n",
    "            result.append( 'Z' )\n",
    "        elif char in 'a':\n",
    "            result.append( 'z' )\n",
    "        else:\n",
    "            result.append( char )\n",
    "    return result\n",
    "\n",
    "if __name__ == '__main__':\n",
    "    # strings = input()\n",
    "    strings = 'Ifmmp !  Ipx  bsf  zpv!'\n",
    "    translate_strings = translate(strings) #解密，而不是加密操作\n",
    "    print(\"\".join(translate_strings))"
   ]
  },
  {
   "cell_type": "code",
   "execution_count": 55,
   "metadata": {},
   "outputs": [
    {
     "name": "stdout",
     "output_type": "stream",
     "text": [
      "Trvdizrrvj\n",
      "['T', 'r', 'v', 'd', 'i', 'z', 'r', 'r', 'v', 'j']\n"
     ]
    }
   ],
   "source": [
    "# B2116 加密的病历单\n",
    "# https://www.luogu.com.cn/problem/B2116\n",
    "def unencrypt(s):\n",
    "    res = []\n",
    "    for c in s:\n",
    "        c = c.swapcase()\n",
    "        if c in 'abcdefghijklmnopqrstuvw' or c in 'ABCDEFGHIJKLMNOPQRSTUVW':\n",
    "            res.append(chr(ord(c) + 3))\n",
    "        elif c in 'x':\n",
    "            res.append('a')\n",
    "        elif c in 'y':\n",
    "            res.append('b')\n",
    "        elif c in 'z':\n",
    "            res.append('c')\n",
    "        elif c in 'X':\n",
    "            res.append('A')\n",
    "        elif c in 'Y':\n",
    "            res.append('B')\n",
    "        elif c in 'Z':  \n",
    "            res.append('C')  \n",
    "        else:\n",
    "            res.append(c)\n",
    "    return res[::-1]\n",
    "\n",
    "if __name__ == '__main__':  \n",
    "    # s = input()\n",
    "\n",
    "    s = 'GSOOWFASOq'\n",
    "    unencrypted = unencrypt(s)\n",
    "    print(''.join(unencrypted))"
   ]
  },
  {
   "cell_type": "code",
   "execution_count": 61,
   "metadata": {},
   "outputs": [
    {
     "name": "stdout",
     "output_type": "stream",
     "text": [
      "Aspirin\n",
      "Cisapride\n",
      "2-penicillin\n",
      "Cefradine-6\n"
     ]
    }
   ],
   "source": [
    "# B2117 整理药名\n",
    "# https://www.luogu.com.cn/problem/P2117\n",
    "\n",
    "def medicine_name(name):\n",
    "    if name and name[0].isalpha() :\n",
    "        name  = name[0].upper() + name[1:].lower()\n",
    "    else :\n",
    "        name = name.lower()\n",
    "    return name\n",
    "\n",
    "if __name__ == '__main__':\n",
    "\n",
    "    print(medicine_name('AspiRin'))\n",
    "    print(medicine_name('cisapride'))\n",
    "    print(medicine_name('2-PENICILLIN'))\n",
    "    print(medicine_name('Cefradine-6'))\n",
    "\n",
    "    # n = int(input())\n",
    "    # for i in range(n):\n",
    "    #     name = input()\n",
    "    #     medicine_nameed = medicine_name(name)\n",
    "    #     print(medicine_nameed)\n",
    "    "
   ]
  },
  {
   "cell_type": "code",
   "execution_count": 64,
   "metadata": {},
   "outputs": [
    {
     "name": "stdout",
     "output_type": "stream",
     "text": [
      "abc is substring of dddncabca\n"
     ]
    }
   ],
   "source": [
    "# B2118 验证子串\n",
    "# https://www.luogu.com.cn/problem/B2118\n",
    "\n",
    "def is_substring(s1, s2):\n",
    "    if s1 in s2:\n",
    "        print(f\"{s1} is substring of {s2}\")\n",
    "    elif s2 in s1:\n",
    "        print(f\"{s2} is substring of {s1}\")\n",
    "    else:\n",
    "        print(\"No substring\")\n",
    "if __name__ == '__main__':\n",
    "    # s1 = input().strip()\n",
    "    # s2 = input().strip()\n",
    "    s1 = \"abc\"\n",
    "    s2 = \"dddncabca\"\n",
    "\n",
    "    is_substring(s1, s2)"
   ]
  },
  {
   "cell_type": "code",
   "execution_count": 6,
   "metadata": {},
   "outputs": [
    {
     "name": "stdout",
     "output_type": "stream",
     "text": [
      "refer\n"
     ]
    }
   ],
   "source": [
    "# B2119 删除单词后缀\n",
    "# https://www.luogu.com.cn/problem/B2119\n",
    "\n",
    "def remove_suffix(word):\n",
    "    if word.endswith('ing'):\n",
    "        return word[:-3]\n",
    "    elif word.endswith('er'):\n",
    "        return word[:-2]\n",
    "    elif word.endswith('ly'):\n",
    "        return word[:-2]\n",
    "    else:\n",
    "        return word\n",
    "    \n",
    "if __name__ == '__main__':\n",
    "    # word = input().strip()\n",
    "    word = 'referer'\n",
    "    remove_suffixed = remove_suffix(word)\n",
    "    print(remove_suffixed)"
   ]
  },
  {
   "cell_type": "code",
   "execution_count": 15,
   "metadata": {},
   "outputs": [
    {
     "name": "stdout",
     "output_type": "stream",
     "text": [
      "3,3,4,2,10,3,4,7,5\n"
     ]
    }
   ],
   "source": [
    "# B2120 单词的长度\n",
    "# https://www.luogu.com.cn/problem/B2120\n",
    "\n",
    "def word_length(word):\n",
    "    return len(word)\n",
    "\n",
    "if __name__ == '__main__':\n",
    "    # word = input().split()\n",
    "    word = 'She was born in 1990-01-02  and  from Beijing city.'.split()\n",
    "    word_length_list = [word_length(w) for w in word]\n",
    "    print(','.join(map (str, word_length_list)))"
   ]
  },
  {
   "cell_type": "code",
   "execution_count": 52,
   "metadata": {},
   "outputs": [
    {
     "name": "stdout",
     "output_type": "stream",
     "text": [
      "Programming\n",
      "I\n"
     ]
    }
   ],
   "source": [
    "# B2121 最长最短单词\n",
    "# https://www.luogu.com.cn/problem/B2121\n",
    "\n",
    "import re\n",
    "def find_longest_and_shortest(sentence):\n",
    "    # 使用字符串的split方法分割句子，过滤掉无效单词并去掉标点\n",
    "    words = re.findall(r'\\b\\w+\\b', sentence)\n",
    "    words = [word for word in words if word.isalpha()]\n",
    "    # print(words)\n",
    "    if not words:  # 如果没有有效的单词，返回空值\n",
    "        exit()\n",
    "    # 找到第一个最长的单词和第一个最短的单词\n",
    "    longest_word = max(words, key=len)\n",
    "    shortest_word = min(words, key=len)\n",
    "\n",
    "    return longest_word, shortest_word\n",
    "\n",
    "if __name__ == '__main__':\n",
    "    # sentence = input()\n",
    "    sentence = 'I am a student,i am studying Programming language C in Peking University.'\n",
    "    longest, shortest = find_longest_and_shortest(sentence)\n",
    "\n",
    "    if longest and shortest:\n",
    "        print(longest)\n",
    "        print(shortest)\n",
    "    else:\n",
    "        exit()\n",
    "\n"
   ]
  },
  {
   "cell_type": "code",
   "execution_count": 53,
   "metadata": {},
   "outputs": [
    {
     "name": "stdout",
     "output_type": "stream",
     "text": [
      "hello\n",
      "world\n"
     ]
    }
   ],
   "source": [
    "# B2122 单词翻转\n",
    "# https://www.luogu.com.cn/problem/B2122\n",
    "\n",
    "def reverse_word(words):\n",
    "    words = words.split()\n",
    "    reverse_words = []\n",
    "    for word in words:\n",
    "        reverse_words.append(word[::-1])\n",
    "    return reverse_words\n",
    "\n",
    "if __name__ == '__main__':\n",
    "    # words = input()\n",
    "    words = 'olleh dlrow'\n",
    "    reverse_words = reverse_word(words)\n",
    "    print('\\n'.join(reverse_words))"
   ]
  },
  {
   "cell_type": "code",
   "execution_count": 32,
   "metadata": {},
   "outputs": [
    {
     "name": "stdout",
     "output_type": "stream",
     "text": [
      "112012201320\n"
     ]
    }
   ],
   "source": [
    "# B2123 字符串 p 型编码\n",
    "# https://www.luogu.com.cn/problem/B2123\n",
    "\n",
    "def p_encode(strs):\n",
    "    if not strs:\n",
    "        return strs\n",
    " \n",
    "    res = ''\n",
    "    idx = 0\n",
    "\n",
    "    # 遍历字符串，统计连续相同字符的个数\n",
    "    while idx  < len(strs):\n",
    "        count = 1\n",
    "        while idx + count < len(strs) and strs[idx] == strs[idx + count]: \n",
    "            count += 1 \n",
    "        # print(str(count) + strs[idx])\n",
    "        res += str(count) + strs[idx]\n",
    "        idx += count\n",
    " \n",
    "    return res\n",
    "\n",
    "if __name__ == '__main__':\n",
    "    # strs = input()\n",
    "    # strs = '122344111'\n",
    "    # strs = '1111111111'\n",
    "    strs = '100200300'\n",
    "    s = p_encode(strs)\n",
    "    print(s)"
   ]
  },
  {
   "cell_type": "code",
   "execution_count": 35,
   "metadata": {},
   "outputs": [
    {
     "name": "stdout",
     "output_type": "stream",
     "text": [
      "yes\n"
     ]
    }
   ],
   "source": [
    "# B2124 判断字符串是否为回文\n",
    "# https://www.luogu.com.cn/problem/B2124\n",
    "\n",
    "def is_palindrome(s: str) -> bool:\n",
    "    if len(s) == 1:\n",
    "        return 'yes'\n",
    "    elif s[:] == s[::-1]:\n",
    "        return 'yes'\n",
    "    else:\n",
    "        return 'no'\n",
    "\n",
    "\n",
    "if __name__ == '__main__':\n",
    "    # s = input()\n",
    "    s = 'abcdedcba'\n",
    "\n",
    "    print(is_palindrome(s))"
   ]
  },
  {
   "cell_type": "code",
   "execution_count": 15,
   "metadata": {},
   "outputs": [
    {
     "name": "stdout",
     "output_type": "stream",
     "text": [
      "743\n"
     ]
    }
   ],
   "source": [
    "# B2125 最高分数的学生姓名\n",
    "# https://www.luogu.com.cn/problem/B2125\n",
    "\n",
    "\n",
    "if __name__ == '__main__':\n",
    "    n = int(input())\n",
    "    score_dict = {}\n",
    "    for i in range(n):\n",
    "        score,name = input().split()\n",
    "        score_dict[name] = int(score)\n",
    "    highest_score = max(score_dict.values())\n",
    "    highest_score_names = [name for name,score in score_dict.items() if score == highest_score]\n",
    "    print(highest_score_names[0])"
   ]
  },
  {
   "cell_type": "code",
   "execution_count": 39,
   "metadata": {},
   "outputs": [
    {
     "name": "stdout",
     "output_type": "stream",
     "text": [
      "c\n"
     ]
    }
   ],
   "source": [
    "# B2126 连续出现的字符\n",
    "# https://www.luogu.com.cn/problem/B2126\n",
    "\n",
    "def count_consecutive_chars(s: str, k: int) -> str:\n",
    "    count = 1\n",
    "    for i in range(len(s)-k+1):\n",
    "        if s[i:i+k] == s[i]*k:\n",
    "            return s[i]\n",
    "    return 'NO'\n",
    "\n",
    "\n",
    "if __name__ == '__main__':\n",
    "    # k = 3\n",
    "    # s = 'abcccaaab'\n",
    "    k = int(input())\n",
    "    s = input()\n",
    "    print(count_consecutive_chars(s,k))"
   ]
  },
  {
   "cell_type": "code",
   "execution_count": 49,
   "metadata": {},
   "outputs": [
    {
     "name": "stdout",
     "output_type": "stream",
     "text": [
      "6\n",
      "28\n"
     ]
    }
   ],
   "source": [
    "# B2127 求正整数 2 和 n 之间的完全数\n",
    "# https://www.luogu.com.cn/problem/B2127\n",
    "\n",
    "def divisors_sum(n):\n",
    "    divisors_sum = 1\n",
    "    for i in range(2,int(n**0.5)+1) :\n",
    "        if n % i == 0:\n",
    "            divisors_sum += i\n",
    "            if i!= n//i:            ## 避免重复加平方根（例如 n=9 时，3 不会被重复加）\n",
    "                divisors_sum += n//i     # 若 i 与 n/i 不同，则也要加上\n",
    "    return divisors_sum\n",
    "\n",
    "\n",
    "def perfect_list(n):\n",
    "    for i in range(2,n+1):\n",
    "        if i == divisors_sum(i):\n",
    "            print(i)\n",
    "\n",
    "\n",
    "if __name__ == '__main__':\n",
    "    # n = int(input())\n",
    "    n = 100\n",
    "    perfect_list = perfect_list(n)\n"
   ]
  },
  {
   "cell_type": "code",
   "execution_count": 51,
   "metadata": {},
   "outputs": [
    {
     "name": "stdout",
     "output_type": "stream",
     "text": [
      "4\n"
     ]
    }
   ],
   "source": [
    "# B2128 素数个数\n",
    "# https://www.luogu.com.cn/problem/B2128\n",
    "\n",
    "def is_prime(n):\n",
    "    if n < 2:\n",
    "        return False\n",
    "    for i in range(2, int(n**0.5)+1):\n",
    "        if n % i == 0:\n",
    "            return False\n",
    "    return True\n",
    "n = 10\n",
    "# n = int(input())\n",
    "count = 0\n",
    "for i in range(2, n+1):\n",
    "    if is_prime(i):\n",
    "        count += 1\n",
    "print(count)\n"
   ]
  },
  {
   "cell_type": "code",
   "execution_count": 53,
   "metadata": {},
   "outputs": [
    {
     "name": "stdout",
     "output_type": "stream",
     "text": [
      "0.200\n"
     ]
    }
   ],
   "source": [
    "# B2129 最大数 max(x,y,z)\n",
    "# https://www.luogu.com.cn/problem/B2129\n",
    "\n",
    "# a,b,c = map(int,input().split())\n",
    "\n",
    "a,b,c = 1,2,3\n",
    "m = max(a,b,c)/max(a+b,b,c)/max(a,b,b+c)\n",
    "print('%.3f' % m)\n"
   ]
  },
  {
   "cell_type": "code",
   "execution_count": 54,
   "metadata": {},
   "outputs": [
    {
     "name": "stdout",
     "output_type": "stream",
     "text": [
      "96\n"
     ]
    }
   ],
   "source": [
    "# B2130 简单算术表达式求值\n",
    "# https://www.luogu.com.cn/problem/B2130\n",
    "\n",
    "if __name__ == '__main__':\n",
    "    # s = input()\n",
    "    s = '32+64'\n",
    "    print(int(eval(s)))"
   ]
  },
  {
   "cell_type": "code",
   "execution_count": null,
   "metadata": {},
   "outputs": [
    {
     "name": "stdout",
     "output_type": "stream",
     "text": [
      "Li\n",
      "Zhao\n",
      "Liu\n",
      "3\n"
     ]
    }
   ],
   "source": [
    "# B2131 甲流病人初筛\n",
    "# https://www.luogu.com.cn/problem/B2131\n",
    "\n",
    "def is_influenza(strs):\n",
    "    strs = strs.split()\n",
    "\n",
    "    if float(strs[1]) >= 37.5 and  int(strs[2]):\n",
    "        print(strs[0])        \n",
    "        return True\n",
    "        \n",
    "if __name__ == '__main__':\n",
    "    n = int(input())\n",
    "    nums = 0\n",
    "    for i in range(n):\n",
    "        s = input()\n",
    "        if is_influenza(s):\n",
    "            nums += 1\n",
    "    print(nums)             \n",
    "    "
   ]
  },
  {
   "cell_type": "code",
   "execution_count": 29,
   "metadata": {},
   "outputs": [
    {
     "name": "stdout",
     "output_type": "stream",
     "text": [
      "3 5\n",
      "5 7\n"
     ]
    }
   ],
   "source": [
    "# B2132 素数对\n",
    "# https://www.luogu.com.cn/problem/B2132\n",
    "\n",
    "def is_prime(n):\n",
    "    if n < 2:\n",
    "        return False\n",
    "    for i in range(2, int(n**0.5)+1):\n",
    "        if n % i == 0:\n",
    "            return False\n",
    "    return True\n",
    "        \n",
    "def prime_pair(n):\n",
    "    prime = []\n",
    "    for i in range(2, n+1):\n",
    "        \n",
    "        if is_prime(i):\n",
    "            prime.append(i)\n",
    "\n",
    "    for a in prime:\n",
    "        for b in prime:\n",
    "            if b-a == 2:\n",
    "                print(a,b)\n",
    "    if len(prime) == 0:\n",
    "        return True\n",
    "\n",
    "if __name__ == '__main__':\n",
    "    n = int(input())\n",
    "    if prime_pair(n):\n",
    "       print(\"empty\")\n"
   ]
  },
  {
   "cell_type": "code",
   "execution_count": 47,
   "metadata": {},
   "outputs": [
    {
     "name": "stdout",
     "output_type": "stream",
     "text": [
      "12 16\n"
     ]
    }
   ],
   "source": [
    "# B2133 我家的门牌号\n",
    "# https://www.luogu.com.cn/problem/B2133\n",
    "\n",
    "n = int(input())\n",
    "k = 1\n",
    "while True:\n",
    "    total = k * (k + 1) // 2\n",
    "    if total >= n:\n",
    "        temp = total - n\n",
    "        if temp % 3 == 0:\n",
    "            m = temp // 3\n",
    "            if 1 <= m <= k:\n",
    "                print(m, k)\n",
    "                break\n",
    "    k += 1\n",
    "        "
   ]
  },
  {
   "cell_type": "code",
   "execution_count": 49,
   "metadata": {},
   "outputs": [
    {
     "name": "stdout",
     "output_type": "stream",
     "text": [
      "589\n"
     ]
    }
   ],
   "source": [
    "# B2134 质数的和与积\n",
    "# https://www.luogu.com.cn/problem/B2134\n",
    "\n",
    "def is_prime(n):\n",
    "    if n < 2:\n",
    "        return False\n",
    "    for i in range(2, int(n**0.5)+1):\n",
    "        if n % i == 0:\n",
    "            return False\n",
    "    return True\n",
    "\n",
    "def prime_sum_and_product(n):\n",
    "    max_product = 0\n",
    "    for i in range(2, n//2+1):\n",
    "        if is_prime(i) and is_prime(n-i):\n",
    "            product = i * (n-i)\n",
    "            max_product = max(max_product, product)\n",
    "    return max_product\n",
    "\n",
    "if __name__ == '__main__':\n",
    "    n = 50\n",
    "    # n = int(input())\n",
    "    print(prime_sum_and_product(n))\n"
   ]
  },
  {
   "cell_type": "code",
   "execution_count": 57,
   "metadata": {},
   "outputs": [
    {
     "name": "stdout",
     "output_type": "stream",
     "text": [
      "I want someone to help you\n"
     ]
    }
   ],
   "source": [
    "# B2135 单词替换\n",
    "# https://www.luogu.com.cn/problem/B2135\n",
    "\n",
    "import re\n",
    "\n",
    "def replace_word(s: str, old: str, new: str) -> str:\n",
    "    # 使用正则表达式的替换功能，\\b 表示单词边界\n",
    "    pattern = r'\\b' + re.escape(old) + r'\\b'\n",
    "    return re.sub(pattern, new, s)\n",
    "\n",
    "if __name__ == '__main__':\n",
    "    s = input().strip()  # 读取输入字符串并去除首尾空格\n",
    "    old = input().strip()  # 读取待替换的单词并去除首尾空格\n",
    "    new = input().strip()  # 读取替换后的单词并去除首尾空格\n",
    "\n",
    "    print(replace_word(s, old, new))   \n"
   ]
  },
  {
   "cell_type": "code",
   "execution_count": 62,
   "metadata": {},
   "outputs": [
    {
     "name": "stdout",
     "output_type": "stream",
     "text": [
      "1\n"
     ]
    }
   ],
   "source": [
    "# B2136 素数回文数的个数\n",
    "# https://www.luogu.com.cn/problem/B2136\n",
    "\n",
    "\n",
    "def is_prime(n):\n",
    "    if n < 2:\n",
    "        return False\n",
    "    for i in range(2, int(n**0.5)+1):\n",
    "        if n % i == 0:\n",
    "            return False\n",
    "    return True\n",
    "\n",
    "def is_palindrome(n):\n",
    "    return str(n) == str(n)[::-1]\n",
    "\n",
    "def count_prime_palindrome(n):\n",
    "    count = 0\n",
    "    for i in range(11,n+1):\n",
    "        if is_prime(i) and is_palindrome(i):\n",
    "            count += 1\n",
    "    return count\n",
    "\n",
    "if __name__ == '__main__':\n",
    "    # n = int(input())\n",
    "    n = 23\n",
    "    print(count_prime_palindrome(n))\n"
   ]
  },
  {
   "cell_type": "code",
   "execution_count": 64,
   "metadata": {},
   "outputs": [
    {
     "name": "stdout",
     "output_type": "stream",
     "text": [
      "25\n"
     ]
    }
   ],
   "source": [
    "# B2137 判决素数个数\n",
    "# https://www.luogu.com.cn/problem/B2137\n",
    "\n",
    "# eratosthenes素数筛法\n",
    "def sieve_of_eratosthenes(max_num):\n",
    "    is_prime = [True] * (max_num + 1)\n",
    "    is_prime[0] = is_prime[1] = False\n",
    "    p = 2\n",
    "    while p * p <= max_num:\n",
    "        if is_prime[p]:\n",
    "            for i in range(p * p, max_num + 1, p):\n",
    "                is_prime[i] = False\n",
    "        p += 1\n",
    "    return is_prime\n",
    "\n",
    "def count_prime(x, y):\n",
    "    if x > y:\n",
    "        x, y = y, x\n",
    "    prime_table = sieve_of_eratosthenes(y)\n",
    "    count = 0\n",
    "    for i in range(x, y + 1):\n",
    "        if prime_table[i]:\n",
    "            count += 1\n",
    "    return count\n",
    "\n",
    "if __name__ == '__main__':\n",
    "    # x, y = map(int, input().split())\n",
    "    x, y = 1, 100\n",
    "    print(count_prime(x, y))\n"
   ]
  },
  {
   "cell_type": "code",
   "execution_count": 74,
   "metadata": {},
   "outputs": [
    {
     "name": "stdout",
     "output_type": "stream",
     "text": [
      "5,3,7,2,3,5\n"
     ]
    }
   ],
   "source": [
    "# B2138 最大质因子序列\n",
    "# https://www.luogu.com.cn/problem/B2138\n",
    "\n",
    "def max_prime_factor(n):\n",
    "    i = 2\n",
    "    while i * i <= n:\n",
    "        if n % i:\n",
    "            i += 1\n",
    "        else:\n",
    "            n //= i\n",
    "    return n\n",
    "\n",
    "def max_prime_factor_sequence(m,n):\n",
    "    factors = []\n",
    "    for i in range(m,n+1):\n",
    "        \n",
    "        factors.append(max_prime_factor(i))\n",
    "    return \",\".join(str(i) for i in factors)\n",
    "if __name__ == '__main__':\n",
    "    # m,n = map(int,input().split())\n",
    "    m,n = 5,10\n",
    "    print(max_prime_factor_sequence(m,n))\n"
   ]
  },
  {
   "cell_type": "code",
   "execution_count": 79,
   "metadata": {},
   "outputs": [
    {
     "name": "stdout",
     "output_type": "stream",
     "text": [
      "11,13,17,31\n"
     ]
    }
   ],
   "source": [
    "# B2139 区间内的真素数\n",
    "# https://www.luogu.com.cn/problem/B2139\n",
    "\n",
    "def is_prime(n):\n",
    "    if n < 2:\n",
    "        return False\n",
    "    for i in range(2, int(n**0.5)+1):\n",
    "        if n % i == 0:\n",
    "            return False\n",
    "    return True\n",
    "\n",
    "def is_prime_in_range(start, end):\n",
    "    strs = []\n",
    "    for i in range(start, end+1):\n",
    "        j = str(i)[::-1]\n",
    "        if is_prime(i) and is_prime(int(j)):\n",
    "            strs.append(i)\n",
    "    return \",\".join(str(i) for i in strs)\n",
    "\n",
    "if __name__ == '__main__':\n",
    "    # start, end = map(int, input().split())\n",
    "\n",
    "    start, end = 10,35\n",
    "    if is_prime_in_range(start, end) == \"\":\n",
    "        print(\"No\")\n",
    "    else:\n",
    "        print(is_prime_in_range(start, end))\n"
   ]
  },
  {
   "cell_type": "code",
   "execution_count": 1,
   "metadata": {},
   "outputs": [
    {
     "name": "stdout",
     "output_type": "stream",
     "text": [
      "5 2\n"
     ]
    }
   ],
   "source": [
    "# B2140 二进制分类\n",
    "# https://www.luogu.com.cn/problem/B2140\n",
    "\n",
    "\n",
    "def binary_classification(x):\n",
    "    a_count = 0\n",
    "    b_count = 0\n",
    "    for i in range(1,x+1):\n",
    "        binary = bin(i)[2:]\n",
    "        if binary.count('1') > binary.count('0'):\n",
    "            a_count += 1\n",
    "        else:\n",
    "            b_count += 1\n",
    "    print(a_count, b_count)\n",
    "\n",
    "if __name__ == '__main__':\n",
    "    # x = int(input())\n",
    "    x = 7\n",
    "    binary_classification(x)"
   ]
  },
  {
   "cell_type": "code",
   "execution_count": 5,
   "metadata": {},
   "outputs": [
    {
     "name": "stdout",
     "output_type": "stream",
     "text": [
      "13\n"
     ]
    }
   ],
   "source": [
    "# B2141 确定进制\n",
    "# https://www.luogu.com.cn/problem/B2141\n",
    "\n",
    "\n",
    "def convert_to_decimal(num, base):\n",
    "    # 将给定进制的数转换为十进制数\n",
    "    num_str = str(num)\n",
    "    decimal_num = 0\n",
    "    power = len(num_str) - 1\n",
    "    for digit in num_str:\n",
    "        digit_val = int(digit)\n",
    "        decimal_num += digit_val * (base ** power)\n",
    "        power -= 1\n",
    "    return decimal_num\n",
    "\n",
    "def find_base(p, q, r):\n",
    "    # 找出使得 p * q = r 成立的最小进制\n",
    "    for base in range(2, 17):\n",
    "        # 检查所有数字在该进制下是否合法\n",
    "        max_digit = max([int(digit) for digit in str(p) + str(q) + str(r)])\n",
    "        if base <= max_digit:\n",
    "            continue\n",
    "        p_decimal = convert_to_decimal(p, base)\n",
    "        q_decimal = convert_to_decimal(q, base)\n",
    "        r_decimal = convert_to_decimal(r, base)\n",
    "        if p_decimal * q_decimal == r_decimal:\n",
    "            return base\n",
    "    return 0\n",
    "\n",
    "# 读取输入\n",
    "p, q, r = map(int, input().split())\n",
    "\n",
    "# 找出合适的进制\n",
    "result = find_base(p, q, r)\n",
    "\n",
    "# 输出结果\n",
    "print(result)\n"
   ]
  },
  {
   "cell_type": "code",
   "execution_count": 6,
   "metadata": {},
   "outputs": [
    {
     "name": "stdout",
     "output_type": "stream",
     "text": [
      "15\n"
     ]
    }
   ],
   "source": [
    "# B2142 求 1+2+3+...+N 的值\n",
    "# https://www.luogu.com.cn/problem/B2142\n",
    "\n",
    "\n",
    "def sum_of_n(n):\n",
    "    return (n * (n + 1)) // 2\n",
    "\n",
    "n = int(input())\n",
    "print(sum_of_n(n))"
   ]
  },
  {
   "cell_type": "code",
   "execution_count": 7,
   "metadata": {},
   "outputs": [
    {
     "name": "stdout",
     "output_type": "stream",
     "text": [
      "1F\n"
     ]
    }
   ],
   "source": [
    "# B2143 进制转换\n",
    "# https://www.luogu.com.cn/problem/B2143\n",
    "\n",
    "# 定义递归函数进行进制转换\n",
    "def convert_base(x, m):\n",
    "    # 用于存储十六进制中大于 9 的数字对应的字母\n",
    "    hex_chars = \"0123456789ABCDEF\"\n",
    "    if x < m:\n",
    "        # 当 x 小于目标进制 m 时，直接返回对应的字符\n",
    "        return hex_chars[x]\n",
    "    else:\n",
    "        # 递归调用 convert_base 函数处理 x 除以 m 的商\n",
    "        # 并将余数对应的字符添加到结果中\n",
    "        return convert_base(x // m, m) + hex_chars[x % m]\n",
    "\n",
    "\n",
    "# 读取输入\n",
    "x, m = map(int, input().split())\n",
    "# 调用函数进行进制转换\n",
    "result = convert_base(x, m)\n",
    "# 输出结果\n",
    "print(result)\n"
   ]
  },
  {
   "cell_type": "code",
   "execution_count": 8,
   "metadata": {},
   "outputs": [
    {
     "name": "stdout",
     "output_type": "stream",
     "text": [
      "9\n"
     ]
    }
   ],
   "source": [
    "# B2144 阿克曼（Ackermann）函数\n",
    "# https://www.luogu.com.cn/problem/B2144\n",
    "\n",
    "def ackermann(m, n):\n",
    "    if m == 0:\n",
    "        return n + 1\n",
    "    elif n == 0:\n",
    "        return ackermann(m - 1, 1)\n",
    "    else:\n",
    "        return ackermann(m - 1, ackermann(m, n - 1))\n",
    "\n",
    "\n",
    "m, n = map(int, input().split())\n",
    "print(ackermann(m, n))"
   ]
  },
  {
   "cell_type": "code",
   "execution_count": null,
   "metadata": {},
   "outputs": [],
   "source": [
    "# B2145 digit 函数\n",
    "# https://www.luogu.com.cn/problem/B2145\n",
    "\n",
    "import sys\n",
    "list1=[]\n",
    "for line in sys.stdin:\n",
    "    list1+=line.split()\n",
    "print(list1[0][-int(list1[1])])\n"
   ]
  },
  {
   "cell_type": "code",
   "execution_count": 1,
   "metadata": {},
   "outputs": [
    {
     "name": "stdout",
     "output_type": "stream",
     "text": [
      "4\n"
     ]
    }
   ],
   "source": [
    "# B2146 Hermite 多项式\n",
    "# https://www.luogu.com.cn/problem/B2146\n",
    "\n",
    "\n",
    "def Hermite(n, x):\n",
    "    if n == 0:\n",
    "        return 1\n",
    "    elif n == 1:\n",
    "        return 2*x\n",
    "    else:\n",
    "        return 2*x*Hermite(n-1, x) - 2*(n-1)*Hermite(n-2, x)\n",
    "\n",
    "if __name__ == '__main__':\n",
    "    n,x = map(int,input().split())\n",
    "    print(Hermite(n,x))\n"
   ]
  },
  {
   "cell_type": "code",
   "execution_count": 7,
   "metadata": {},
   "outputs": [
    {
     "name": "stdout",
     "output_type": "stream",
     "text": [
      "3.68\n"
     ]
    }
   ],
   "source": [
    "# B2147 求 f(x,n)\n",
    "# https://www.luogu.com.cn/problem/B2147\n",
    "\n",
    "\n",
    "def f(x,n):\n",
    "    if n == 1:\n",
    "        return (x+1)**0.5\n",
    "    else:\n",
    "        return (n + f(x,n-1))**0.5\n",
    "\n",
    "if __name__ == '__main__':\n",
    "    x,n = map(float,input().split())    \n",
    "    print(\"{:.2f}\".format(f(x,n)))\n"
   ]
  },
  {
   "cell_type": "code",
   "execution_count": 8,
   "metadata": {},
   "outputs": [
    {
     "name": "stdout",
     "output_type": "stream",
     "text": [
      "0.40\n"
     ]
    }
   ],
   "source": [
    "# B2148 再求 f(x,n)\n",
    "# https://www.luogu.com.cn/problem/B2148\n",
    "\n",
    "\n",
    "def f(x,n):\n",
    "    if n == 1:\n",
    "        return x/(x+1)\n",
    "    else:\n",
    "        return x/(n + f(x,n-1))\n",
    "\n",
    "if __name__ == '__main__':\n",
    "    # x = float(input())\n",
    "    # n = int(input())\n",
    "    x = 1\n",
    "    n = 2\n",
    "    print(\"{:.2f}\".format(f(x,n)))\n"
   ]
  }
 ],
 "metadata": {
  "kernelspec": {
   "display_name": "base",
   "language": "python",
   "name": "python3"
  },
  "language_info": {
   "codemirror_mode": {
    "name": "ipython",
    "version": 3
   },
   "file_extension": ".py",
   "mimetype": "text/x-python",
   "name": "python",
   "nbconvert_exporter": "python",
   "pygments_lexer": "ipython3",
   "version": "3.12.7"
  }
 },
 "nbformat": 4,
 "nbformat_minor": 2
}
