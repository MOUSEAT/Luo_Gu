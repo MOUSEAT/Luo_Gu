{
 "cells": [
  {
   "cell_type": "markdown",
   "metadata": {},
   "source": [
    "# 洛谷刷题笔记——python"
   ]
  },
  {
   "cell_type": "code",
   "execution_count": 3,
   "metadata": {},
   "outputs": [
    {
     "name": "stdout",
     "output_type": "stream",
     "text": [
      "27.642%\n"
     ]
    }
   ],
   "source": [
    "#%%B2004 对齐输出\n",
    "a,b,c = input().split()\n",
    "a = int(a)\n",
    "b = int(b)\n",
    "c = int(c)\n",
    "\n",
    "print(\"{0:>8} {1:>8} {2:>8}\".format(a,b,c))\n",
    "\n"
   ]
  },
  {
   "cell_type": "code",
   "execution_count": null,
   "metadata": {},
   "outputs": [],
   "source": [
    "#%%B2005 字符三角形\n",
    "s = input()\n",
    "print(f\"  {s}\\n {s*3}\\n{s*5}\")\n",
    "\n",
    "#%%B2006 地球人口承载力估计\n",
    "x,a,y,b = input().split()\n",
    "x = float(x);a = float(a)\n",
    "y = float(y);b = float(b)\n",
    "z = (x*a-y*b)/(a-b)\n",
    "print(\"%.2f\" % z)\n"
   ]
  },
  {
   "cell_type": "code",
   "execution_count": null,
   "metadata": {},
   "outputs": [],
   "source": [
    "#%% B2007 A + B 问题\n",
    "x,y= input().split()\n",
    "x = int(x)\n",
    "y = int(y)\n",
    "z = x+y\n",
    "print(z)\n"
   ]
  },
  {
   "cell_type": "code",
   "execution_count": null,
   "metadata": {},
   "outputs": [],
   "source": [
    "#%%B2008 计算 (a+b)×c 的值\n",
    "a,b,c= input().split()\n",
    "a = int(a)\n",
    "b = int(b)\n",
    "c = int(c)\n",
    "z = (a+b)*c\n",
    "print(z)"
   ]
  },
  {
   "cell_type": "code",
   "execution_count": null,
   "metadata": {},
   "outputs": [],
   "source": [
    "#%%B2009 计算 (a+b)/c 的值\n",
    "a,b,c= input().split()\n",
    "a = int(a)\n",
    "b = int(b)\n",
    "c = int(c)\n",
    "z = (a+b)//c\n",
    "print(z)"
   ]
  },
  {
   "cell_type": "code",
   "execution_count": null,
   "metadata": {},
   "outputs": [],
   "source": [
    "#%%B2010 带余除法\n",
    "a,b= input().split()\n",
    "a = int(a)\n",
    "b = int(b)\n",
    "x = a // b\n",
    "y = a % b\n",
    "print(x,y)"
   ]
  },
  {
   "cell_type": "code",
   "execution_count": null,
   "metadata": {},
   "outputs": [],
   "source": [
    "#%%B2011 计算分数的浮点数值\n",
    "a,b= input().split()\n",
    "a = int(a)\n",
    "b = int(b)\n",
    "x = a / b\n",
    "\n",
    "print(\"%.9f\" % x)"
   ]
  },
  {
   "cell_type": "code",
   "execution_count": null,
   "metadata": {},
   "outputs": [],
   "source": [
    "#%%B2012 甲流疫情死亡率\n",
    "a= input()\n",
    "b= input()\n",
    "a = int(a)\n",
    "b = int(b)\n",
    "x = b / a\n",
    "\n",
    "print(\"{:.3%}\".format(x))"
   ]
  },
  {
   "cell_type": "code",
   "execution_count": 7,
   "metadata": {},
   "outputs": [
    {
     "name": "stdout",
     "output_type": "stream",
     "text": [
      "5.00000\n"
     ]
    }
   ],
   "source": [
    "# B2013 温度表达转化\n",
    "F = input()\n",
    "F = float(F)\n",
    "C = 5 * (F-32)/9\n",
    "\n",
    "print(\"{:.5f}\".format(C))"
   ]
  },
  {
   "cell_type": "code",
   "execution_count": 9,
   "metadata": {},
   "outputs": [
    {
     "name": "stdout",
     "output_type": "stream",
     "text": [
      "6.0000 18.8495 28.2743\n"
     ]
    }
   ],
   "source": [
    "#B2014 与圆相关的计算\n",
    "r = input()\n",
    "r = float(r)\n",
    "pi_r = 3.14159\n",
    "d = 2 * r\n",
    "l = 2 * r * pi_r\n",
    "s = pi_r * r ** 2\n",
    "print(\"{0:.4f} {1:.4f} {2:.4f}\".format(d,l,s))"
   ]
  },
  {
   "cell_type": "code",
   "execution_count": 10,
   "metadata": {},
   "outputs": [
    {
     "name": "stdout",
     "output_type": "stream",
     "text": [
      "0.67\n"
     ]
    }
   ],
   "source": [
    "#B2015 计算并联电阻的阻值\n",
    "r_1, r_2 = input().split()\n",
    "r_1 = float(r_1)\n",
    "r_2 = float(r_2)\n",
    "\n",
    "R = 1/(1/r_1 + 1/r_2)\n",
    "print(\"{:.2f}\".format(R))"
   ]
  },
  {
   "cell_type": "code",
   "execution_count": 11,
   "metadata": {},
   "outputs": [
    {
     "name": "stdout",
     "output_type": "stream",
     "text": [
      "2\n"
     ]
    }
   ],
   "source": [
    "# B2016 浮点数向零舍入\n",
    "a = float(input())\n",
    "print(int(a))"
   ]
  },
  {
   "cell_type": "code",
   "execution_count": null,
   "metadata": {},
   "outputs": [
    {
     "name": "stdout",
     "output_type": "stream",
     "text": [
      "65\n"
     ]
    }
   ],
   "source": [
    "#B2017 打印 ASCII 码\n",
    "print(ord(input().strip()))          #使用ord函数将单个字符转换为ASCII码"
   ]
  },
  {
   "cell_type": "code",
   "execution_count": 14,
   "metadata": {},
   "outputs": [
    {
     "name": "stdout",
     "output_type": "stream",
     "text": [
      "A\n"
     ]
    }
   ],
   "source": [
    "#B2018 打印字符\n",
    "print(chr(int(input())))               #使用chr函数将ASCII码转换为单个字符"
   ]
  },
  {
   "cell_type": "code",
   "execution_count": 15,
   "metadata": {},
   "outputs": [
    {
     "name": "stdout",
     "output_type": "stream",
     "text": [
      "1\n"
     ]
    }
   ],
   "source": [
    "# B2019 整型与布尔型的转换\n",
    "a = int(input())\n",
    "print(int(bool(a)))"
   ]
  },
  {
   "cell_type": "code",
   "execution_count": null,
   "metadata": {},
   "outputs": [
    {
     "name": "stdout",
     "output_type": "stream",
     "text": [
      "11 7 9 11 6\n",
      "6\n"
     ]
    }
   ],
   "source": [
    "# B2020 分糖果\n",
    "a1,a2,a3,a4,a5 = input().split()\n",
    "a1 = int(a1); a2 = int(a2); a3 = int(a3); a4 = int(a4); a5 = int(a5); \n",
    "s = 0\n",
    "s += a1%3; a1 = a1//3; a2 += a1; a5 += a1; \n",
    "s += a2%3; a2 = a2//3; a3 += a2; a1 += a2; \n",
    "s += a3%3; a3 = a3//3; a4 += a3; a2 += a3; \n",
    "s += a4%3; a4 = a4//3; a5 += a4; a3 += a4; \n",
    "s += a5%3; a5 = a5//3; a1 += a5; a4 += a5; \n",
    "\n",
    "print(a1,a2,a3,a4,a5)\n",
    "print(s)\n",
    "\n"
   ]
  },
  {
   "cell_type": "code",
   "execution_count": 21,
   "metadata": {},
   "outputs": [
    {
     "name": "stdout",
     "output_type": "stream",
     "text": [
      "12.345\n"
     ]
    }
   ],
   "source": [
    "# B2021 输出保留 3 位小数的浮点数\n",
    "a = float(input())\n",
    "print(\"{:.3f}\".format(a))"
   ]
  },
  {
   "cell_type": "code",
   "execution_count": 22,
   "metadata": {},
   "outputs": [
    {
     "name": "stdout",
     "output_type": "stream",
     "text": [
      "3.141592653580\n"
     ]
    }
   ],
   "source": [
    "# B2022 输出保留 12 位小数的浮点数\n",
    "a = float(input())\n",
    "print(\"{:.12f}\".format(a))"
   ]
  },
  {
   "cell_type": "code",
   "execution_count": 23,
   "metadata": {},
   "outputs": [
    {
     "name": "stdout",
     "output_type": "stream",
     "text": [
      "a 12 2.300000 3.200000\n"
     ]
    }
   ],
   "source": [
    "# B2023 空格分隔输出\n",
    "a = input().strip()\n",
    "b = int(input())\n",
    "c = float(input())\n",
    "d = float(input())\n",
    "\n",
    "print(\"{0:s} {1:d} {2:.6f} {3:.6f}\".format(a,b,c,d))"
   ]
  },
  {
   "cell_type": "code",
   "execution_count": 25,
   "metadata": {},
   "outputs": [
    {
     "name": "stdout",
     "output_type": "stream",
     "text": [
      "12.345679\n",
      "12.34568\n",
      "1.234568e+01\n",
      "12.3457\n"
     ]
    }
   ],
   "source": [
    "# B2024 输出浮点数\n",
    "a = float(input())\n",
    "print(\"{:f}\".format(a))\n",
    "print(\"{:.5f}\".format(a))\n",
    "print(\"{:e}\".format(a))\n",
    "print(\"{:g}\".format(a))\n"
   ]
  },
  {
   "cell_type": "code",
   "execution_count": null,
   "metadata": {},
   "outputs": [],
   "source": [
    "# B2025 输出字符菱形\n",
    "print(\"  *\")\n",
    "print(\" ***\")\n",
    "print(\"*****\")\n",
    "print(\" ***\")\n",
    "print(\"  *\")"
   ]
  }
 ],
 "metadata": {
  "kernelspec": {
   "display_name": "base",
   "language": "python",
   "name": "python3"
  },
  "language_info": {
   "codemirror_mode": {
    "name": "ipython",
    "version": 3
   },
   "file_extension": ".py",
   "mimetype": "text/x-python",
   "name": "python",
   "nbconvert_exporter": "python",
   "pygments_lexer": "ipython3",
   "version": "3.12.7"
  }
 },
 "nbformat": 4,
 "nbformat_minor": 2
}
