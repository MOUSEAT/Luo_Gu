{
 "cells": [
  {
   "cell_type": "markdown",
   "metadata": {},
   "source": [
    "# 洛谷刷题笔记——Python\n",
    "包含B2051_B2100"
   ]
  },
  {
   "cell_type": "code",
   "execution_count": 8,
   "metadata": {},
   "outputs": [
    {
     "ename": "ValueError",
     "evalue": "not enough values to unpack (expected 2, got 1)",
     "output_type": "error",
     "traceback": [
      "\u001b[1;31m---------------------------------------------------------------------------\u001b[0m",
      "\u001b[1;31mValueError\u001b[0m                                Traceback (most recent call last)",
      "Cell \u001b[1;32mIn[8], line 3\u001b[0m\n\u001b[0;32m      1\u001b[0m \u001b[38;5;66;03m# B2051 点和正方形的关系\u001b[39;00m\n\u001b[0;32m      2\u001b[0m \u001b[38;5;66;03m# https://www.luogu.com.cn/problem/B2051\u001b[39;00m\n\u001b[1;32m----> 3\u001b[0m x, y \u001b[38;5;241m=\u001b[39m \u001b[38;5;28mmap\u001b[39m(\u001b[38;5;28mint\u001b[39m, \u001b[38;5;28minput\u001b[39m()\u001b[38;5;241m.\u001b[39msplit())\n\u001b[0;32m      5\u001b[0m \u001b[38;5;28;01mif\u001b[39;00m \u001b[38;5;241m-\u001b[39m\u001b[38;5;241m1\u001b[39m \u001b[38;5;241m<\u001b[39m\u001b[38;5;241m=\u001b[39m x \u001b[38;5;241m<\u001b[39m\u001b[38;5;241m=\u001b[39m \u001b[38;5;241m1\u001b[39m \u001b[38;5;129;01mand\u001b[39;00m \u001b[38;5;241m-\u001b[39m\u001b[38;5;241m1\u001b[39m \u001b[38;5;241m<\u001b[39m\u001b[38;5;241m=\u001b[39m y \u001b[38;5;241m<\u001b[39m\u001b[38;5;241m=\u001b[39m \u001b[38;5;241m1\u001b[39m:\n\u001b[0;32m      6\u001b[0m     \u001b[38;5;28mprint\u001b[39m(\u001b[38;5;124m\"\u001b[39m\u001b[38;5;124myes\u001b[39m\u001b[38;5;124m\"\u001b[39m)\n",
      "\u001b[1;31mValueError\u001b[0m: not enough values to unpack (expected 2, got 1)"
     ]
    }
   ],
   "source": [
    "# B2051 点和正方形的关系\n",
    "# https://www.luogu.com.cn/problem/B2051\n",
    "x, y = map(int, input().split())\n",
    "\n",
    "if -1 <= x <= 1 and -1 <= y <= 1:\n",
    "    print(\"yes\")\n",
    "else:\n",
    "    print(\"no\")"
   ]
  },
  {
   "cell_type": "code",
   "execution_count": 2,
   "metadata": {},
   "outputs": [
    {
     "name": "stdout",
     "output_type": "stream",
     "text": [
      "3\n"
     ]
    }
   ],
   "source": [
    "# B2052 简单计算器\n",
    "# https://www.luogu.com.cn/problem/B2052\n",
    "x, y, c = input().split()\n",
    "x = int(x)\n",
    "y = int(y)\n",
    "\n",
    "if c == '+':\n",
    "    result = x + y\n",
    "elif c == '-':\n",
    "    result = x - y\n",
    "elif c == '*':\n",
    "    result = x * y\n",
    "elif c == '/':\n",
    "    if y == 0:\n",
    "        print('Divided by zero!')\n",
    "        exit()  # 提前结束程序\n",
    "    result = x / y\n",
    "else:\n",
    "    print('Invalid operator!')\n",
    "    exit()  # 提前结束程序\n",
    "\n",
    "print(int(result))\n"
   ]
  },
  {
   "cell_type": "code",
   "execution_count": 3,
   "metadata": {},
   "outputs": [
    {
     "name": "stdout",
     "output_type": "stream",
     "text": [
      "x1 = -0.44781;x2 = 1.68075\n"
     ]
    }
   ],
   "source": [
    "# B2053 求一元二次方程\n",
    "# https://www.luogu.com.cn/problem/B2053\n",
    "a, b, c = map(float, input().split())\n",
    "delta = b**2 - 4*a*c\n",
    "if delta > 0:\n",
    "    x1 = (-b - delta**0.5) / (2*a)\n",
    "    x2 = (-b + delta**0.5) / (2*a)\n",
    "    if x1 > x2:\n",
    "        x1, x2 = x2, x1\n",
    "    print(\"x1={0:.5f};x2={1:.5f}\" .format(x1, x2))\n",
    "elif delta == 0:\n",
    "    x = -b / (2*a)\n",
    "    print(\"x1=x2={0:.5f}\" .format(x)) \n",
    "else:\n",
    "    print(\"No answer!\")"
   ]
  },
  {
   "cell_type": "code",
   "execution_count": 5,
   "metadata": {},
   "outputs": [
    {
     "name": "stdout",
     "output_type": "stream",
     "text": [
      "17.50\n"
     ]
    }
   ],
   "source": [
    "# B2054 求平均年龄\n",
    "# https://www.luogu.com.cn/problem/B2054\n",
    "n = int(input())\n",
    "sum_age = 0\n",
    "for i in range(n):\n",
    "    age = int(input())\n",
    "    sum_age += age\n",
    "print(\"{:.2f}\".format(sum_age / n)) # 保留两位小数"
   ]
  },
  {
   "cell_type": "code",
   "execution_count": 6,
   "metadata": {},
   "outputs": [
    {
     "name": "stdout",
     "output_type": "stream",
     "text": [
      "2.0\n"
     ]
    }
   ],
   "source": [
    "# B2055 均值\n",
    "# https://www.luogu.com.cn/problem/B2055\n",
    "\n",
    "n = int(input())\n",
    "a = list(map(float, input().split()))\n",
    "\n",
    "sum = 0\n",
    "for i in range(n):\n",
    "    sum += a[i]\n",
    "mean = sum / n\n",
    "\n",
    "print(\"{:.4f}\".format(mean)) # 输出四位小数"
   ]
  },
  {
   "cell_type": "code",
   "execution_count": 7,
   "metadata": {},
   "outputs": [
    {
     "name": "stdout",
     "output_type": "stream",
     "text": [
      "282.75000\n"
     ]
    }
   ],
   "source": [
    "# B2056 求整数的和与均值\n",
    "# https://www.luogu.com.cn/problem/B2056\n",
    "n = int(input())\n",
    "sum = 0\n",
    "for i in range(n):\n",
    "    sum += int(input())\n",
    "print(\"{0} {1:.5f}\".format(int(sum),sum / n)) # 保证输出5位小数"
   ]
  },
  {
   "cell_type": "code",
   "execution_count": 8,
   "metadata": {},
   "outputs": [
    {
     "name": "stdout",
     "output_type": "stream",
     "text": [
      "99\n"
     ]
    }
   ],
   "source": [
    "# B2057 最高的分数\n",
    "# https://www.luogu.com.cn/problem/B2057\n",
    "n = int(input())\n",
    "scores= list(map(int, input().split()))\n",
    "\n",
    "# a = sorted(scores, reverse=True) # 降序排序\n",
    "print(max(scores))"
   ]
  },
  {
   "cell_type": "code",
   "execution_count": 10,
   "metadata": {},
   "outputs": [
    {
     "name": "stdout",
     "output_type": "stream",
     "text": [
      "4 4 3 11\n"
     ]
    }
   ],
   "source": [
    "# B2058 奥运奖牌计数\n",
    "# https://www.luogu.com.cn/problem/B2058\n",
    "n = int(input())\n",
    "gold = 0\n",
    "silver = 0\n",
    "bronze = 0\n",
    "for i in range(n):\n",
    "    a = list(map(int, input().split()))\n",
    "    gold += a[0]\n",
    "    silver += a[1]\n",
    "    bronze += a[2]\n",
    "print(gold, silver, bronze,gold+silver+bronze)"
   ]
  },
  {
   "cell_type": "code",
   "execution_count": 11,
   "metadata": {},
   "outputs": [
    {
     "name": "stdout",
     "output_type": "stream",
     "text": [
      "55\n"
     ]
    }
   ],
   "source": [
    "# B2059 奇数求和\n",
    "# https://www.luogu.com.cn/problem/B2059\n",
    "m,n=map(int,input().split())\n",
    "sum=0\n",
    "if m%2==0:\n",
    "    m+=1\n",
    "for i in range(m,n+1,2):\n",
    "    sum+=i\n",
    "print(sum)"
   ]
  },
  {
   "cell_type": "code",
   "execution_count": 15,
   "metadata": {},
   "outputs": [
    {
     "name": "stdout",
     "output_type": "stream",
     "text": [
      "204\n"
     ]
    }
   ],
   "source": [
    "# B2060 满足条件的数累加\n",
    "# https://www.luogu.com.cn/problem/B2060\n",
    "m, n = map(int, input().split())\n",
    "total = 0\n",
    "for i in range(m, n+1):\n",
    "    if i % 17 == 0:\n",
    "        total += i\n",
    "print(total)\n"
   ]
  },
  {
   "cell_type": "code",
   "execution_count": 16,
   "metadata": {},
   "outputs": [
    {
     "name": "stdout",
     "output_type": "stream",
     "text": [
      "1\n",
      "2\n",
      "1\n"
     ]
    }
   ],
   "source": [
    "# B2061 整数的个数\n",
    "# https://www.luogu.com.cn/problem/P2061\n",
    "k = int(input())\n",
    "kn = map(int, input().split())\n",
    "i_1 = 0\n",
    "i_5 = 0\n",
    "i_10 = 0\n",
    "for i in kn:\n",
    "    if i == 1:\n",
    "        i_1 += 1\n",
    "    elif i == 5:\n",
    "        i_5 += 1\n",
    "    elif i == 10:\n",
    "        i_10 += 1\n",
    "print(i_1)\n",
    "print(i_5)\n",
    "print(i_10)"
   ]
  },
  {
   "cell_type": "code",
   "execution_count": 17,
   "metadata": {},
   "outputs": [
    {
     "name": "stdout",
     "output_type": "stream",
     "text": [
      "8\n"
     ]
    }
   ],
   "source": [
    "# B2062 乘方计算\n",
    "# https://www.luogu.com.cn/problem/B2062\n",
    "a,n=map(int,input().split())\n",
    "print(a**n)"
   ]
  },
  {
   "cell_type": "code",
   "execution_count": 18,
   "metadata": {},
   "outputs": [
    {
     "name": "stdout",
     "output_type": "stream",
     "text": [
      "13.1306\n"
     ]
    }
   ],
   "source": [
    "# B2063 人口增长问题\n",
    "# https://www.luogu.com.cn/problem/B2063\n",
    "x,n = map(int,input().split())\n",
    "x_n = x * (1 + 0.001) ** n\n",
    "print(\"{:.4f}\".format(x_n))"
   ]
  },
  {
   "cell_type": "code",
   "execution_count": 21,
   "metadata": {},
   "outputs": [
    {
     "name": "stdout",
     "output_type": "stream",
     "text": [
      "5\n",
      "1\n",
      "4181\n",
      "1\n"
     ]
    }
   ],
   "source": [
    "# B2064 斐波那契数列\n",
    "# https://www.luogu.com.cn/problem/P2064\n",
    "n = int(input())\n",
    "\n",
    "def fib(n):\n",
    "    if n == 0:\n",
    "        return 0\n",
    "    elif n == 1:\n",
    "        return 1\n",
    "    else:\n",
    "        return fib(n-1) + fib(n-2)\n",
    "\n",
    "for i in range(n):\n",
    "    an = fib(int(input()))\n",
    "    print(an)"
   ]
  },
  {
   "cell_type": "code",
   "execution_count": null,
   "metadata": {},
   "outputs": [],
   "source": [
    "# B2065 鸡尾酒疗法\n",
    "# https://www.luogu.com.cn/problem/P2065\n",
    "n = int(input())\n",
    "a1, b1 = map(int, input().split())\n",
    "rate = b1/a1 * 100\n",
    "for i in range(n-1):\n",
    "    a, b = map(int, input().split())\n",
    "    if b/a*100-rate>5:\n",
    "        print(\"better\")\n",
    "    elif rate-b/a*100>5:\n",
    "        print(\"worse\")\n",
    "    else:\n",
    "        print(\"same\")\n",
    "    "
   ]
  },
  {
   "cell_type": "code",
   "execution_count": null,
   "metadata": {},
   "outputs": [
    {
     "name": "stdout",
     "output_type": "stream",
     "text": [
      "7\n"
     ]
    }
   ],
   "source": [
    "# B2066 救援\n",
    "# https://www.luogu.com.cn/problem/B2066\n",
    "from math import ceil\n",
    "n = int(input())\n",
    "time = 0\n",
    "for i in range(n):\n",
    "    x, y ,number= input().split()\n",
    "    x = float(x)\n",
    "    y = float(y)\n",
    "    number = int(number)\n",
    "    time += 2*(x**2 + y**2)**0.5 / 50 + number * 1.5\n",
    "print(ceil(time))"
   ]
  },
  {
   "cell_type": "code",
   "execution_count": 25,
   "metadata": {},
   "outputs": [
    {
     "name": "stdout",
     "output_type": "stream",
     "text": [
      "1\n"
     ]
    }
   ],
   "source": [
    "# B2067 药房管理\n",
    "# https://www.luogu.com.cn/problem/P2067\n",
    "m = int(input())\n",
    "n = int(input())\n",
    "medicine_list = list(map(int, input().split()))\n",
    "number_not_enough = 0\n",
    "\n",
    "for i in medicine_list:\n",
    "    if i <= m:\n",
    "        m -= i\n",
    "    else:\n",
    "        number_not_enough += 1\n",
    "print(number_not_enough)"
   ]
  },
  {
   "cell_type": "code",
   "execution_count": 26,
   "metadata": {},
   "outputs": [
    {
     "name": "stdout",
     "output_type": "stream",
     "text": [
      "3\n"
     ]
    }
   ],
   "source": [
    "# B2068 统计满足条件的 4 位数\n",
    "# https://www.luogu.com.cn/problem/B2068\n",
    "n = int(input())\n",
    "numbers_list = list(map(int, input().split()))\n",
    "count = 0\n",
    "for number in numbers_list:\n",
    "    a, b, c, d = map(int, str(number))\n",
    "    if d - a-b-c > 0:\n",
    "        count += 1\n",
    "print(count)"
   ]
  },
  {
   "cell_type": "code",
   "execution_count": 10,
   "metadata": {},
   "outputs": [
    {
     "name": "stdout",
     "output_type": "stream",
     "text": [
      "10.0071\n"
     ]
    }
   ],
   "source": [
    "# B2069 求分数序列和\n",
    "# https://www.luogu.com.cn/problem/B2069\n",
    "n = int(input())\n",
    "\n",
    "def sum_of_fractions(n):\n",
    "    p1 = 1\n",
    "    q1 = 2\n",
    "    q2 = p1 + q1\n",
    "    s = 0\n",
    "\n",
    "    for i in range(1, n+1):\n",
    "        s += q1/p1\n",
    "        q2 = p1 + q1\n",
    "        p1 = q1        \n",
    "        q1 = q2\n",
    "        \n",
    "    return s\n",
    "print(\"{:.4f}\".format(sum_of_fractions(n)))"
   ]
  },
  {
   "cell_type": "code",
   "execution_count": 58,
   "metadata": {},
   "outputs": [
    {
     "name": "stdout",
     "output_type": "stream",
     "text": [
      "0.8333\n"
     ]
    }
   ],
   "source": [
    "# B2070 计算分数加减表达式的值\n",
    "# https://www.luogu.com.cn/problem/B2070\n",
    "n = int(input())\n",
    "\n",
    "def calculate(n):\n",
    "    a = 1\n",
    "    s = 0\n",
    "    for i in range(1, n+1):\n",
    "        a = (-1)**(i-1) * 1 / i\n",
    "        s += a\n",
    "    return s\n",
    "\n",
    "print(\"{:.4f}\".format(calculate(n)))\n"
   ]
  },
  {
   "cell_type": "code",
   "execution_count": null,
   "metadata": {},
   "outputs": [
    {
     "name": "stdout",
     "output_type": "stream",
     "text": [
      "19\n"
     ]
    }
   ],
   "source": [
    "# B2071 余数相同问题\n",
    "# https://www.luogu.com.cn/problem/B2071\n",
    "a,b,c = map(int,input().split())\n",
    "x = 2\n",
    "\n",
    "while not(a % x == b % x == c % x):\n",
    "    x += 1\n",
    "print(x)"
   ]
  },
  {
   "cell_type": "code",
   "execution_count": 4,
   "metadata": {},
   "outputs": [
    {
     "name": "stdout",
     "output_type": "stream",
     "text": [
      "36\n"
     ]
    }
   ],
   "source": [
    "# B2072 分苹果\n",
    "# https://www.luogu.com.cn/problem/B2072\n",
    "n = int(input())\n",
    "print(int(n * (n + 1) / 2))"
   ]
  },
  {
   "cell_type": "code",
   "execution_count": 11,
   "metadata": {},
   "outputs": [
    {
     "name": "stdout",
     "output_type": "stream",
     "text": [
      "0\n"
     ]
    }
   ],
   "source": [
    "# B2073 求小数的某一位\n",
    "# https://www.luogu.com.cn/problem/B2073\n",
    "# 求小数的某一位\n",
    "a, b, n = map(int, input().split())\n",
    "# 初始化余数\n",
    "remainder = a % b\n",
    "# 找到小数点后第n位的数字\n",
    "for _ in range(n):\n",
    "    remainder *= 10       # 将余数乘以10来向右移动小数点\n",
    "    digit = remainder // b # 计算出小数的下一位\n",
    "    remainder = remainder % b # 更新余数\n",
    "\n",
    "# 输出第n位数字\n",
    "print(digit)\n"
   ]
  },
  {
   "cell_type": "code",
   "execution_count": 12,
   "metadata": {},
   "outputs": [
    {
     "name": "stdout",
     "output_type": "stream",
     "text": [
      "Tuesday\n"
     ]
    }
   ],
   "source": [
    "# B2074 计算星期几\n",
    "# https://www.luogu.com.cn/problem/B2074\n",
    "a,b = map(int,input().split())\n",
    "c = (a**b)%7\n",
    "if c==0:\n",
    "    print(\"Sunday\")\n",
    "elif c==1:\n",
    "    print(\"Monday\")\n",
    "elif c==2:\n",
    "    print(\"Tuesday\")\n",
    "elif c==3:\n",
    "    print(\"Wednesday\")\n",
    "elif c==4:\n",
    "    print(\"Thursday\")\n",
    "elif c==5:\n",
    "    print(\"Friday\")\n",
    "else:\n",
    "    print(\"Saturday\")"
   ]
  },
  {
   "cell_type": "code",
   "execution_count": 15,
   "metadata": {},
   "outputs": [
    {
     "name": "stdout",
     "output_type": "stream",
     "text": [
      "743\n"
     ]
    }
   ],
   "source": [
    "# B2075 幂的末尾\n",
    "# https://www.luogu.com.cn/problem/B2075\n",
    "a,b = map(int,input().split())\n",
    "c = a**b % 1000\n",
    "print(\"{:03d}\".format(c)) # 输出末尾三位数\n"
   ]
  },
  {
   "cell_type": "code",
   "execution_count": 23,
   "metadata": {},
   "outputs": [
    {
     "name": "stdout",
     "output_type": "stream",
     "text": [
      "2.99609375\n",
      "0.0009765625\n"
     ]
    }
   ],
   "source": [
    "# B2076 球弹跳高度的计算\n",
    "# https://www.luogu.com.cn/problem/B2076\n",
    "h = int(input())\n",
    "s = h\n",
    "for i in range(1,11):\n",
    "    s += 0.5*h*2\n",
    "    h *= 0.5\n",
    "print(s-2*h)\n",
    "print(h)\n"
   ]
  },
  {
   "cell_type": "code",
   "execution_count": 24,
   "metadata": {},
   "outputs": [
    {
     "name": "stdout",
     "output_type": "stream",
     "text": [
      "5*3+1=16\n",
      "16/2=8\n",
      "8/2=4\n",
      "4/2=2\n",
      "2/2=1\n",
      "End\n"
     ]
    }
   ],
   "source": [
    "# B2077 角谷猜想\n",
    "# https://www.luogu.com.cn/problem/B2077\n",
    "N = int(input())\n",
    "while N!= 1:\n",
    "    if N % 2 == 1:\n",
    "        N = 3 * N + 1\n",
    "        print(\"{0}*3+1={1}\".format(N // 3, N))\n",
    "    else:\n",
    "        N = N // 2\n",
    "        print(\"{0}/2={1}\".format(N * 2, N))\n",
    "print(\"End\")"
   ]
  },
  {
   "cell_type": "code",
   "execution_count": 25,
   "metadata": {},
   "outputs": [
    {
     "name": "stdout",
     "output_type": "stream",
     "text": [
      "YES\n"
     ]
    }
   ],
   "source": [
    "# B2078 含 k 个 3 的数\n",
    "# https://www.luogu.com.cn/problem/B2078\n",
    "m,k = input().split()\n",
    "count = m.count('3')\n",
    "\n",
    "if count == int(k):\n",
    "    print(\"YES\")\n",
    "else:\n",
    "    print(\"NO\")\n"
   ]
  },
  {
   "cell_type": "code",
   "execution_count": 27,
   "metadata": {},
   "outputs": [
    {
     "name": "stdout",
     "output_type": "stream",
     "text": [
      "2.7182818011\n"
     ]
    }
   ],
   "source": [
    "# B2079 求出 e 的值\n",
    "# https://www.luogu.com.cn/problem/B2079\n",
    "import math\n",
    "\n",
    "n = int(input())\n",
    "e = 0\n",
    "for i in range(n+1):\n",
    "    e += 1/math.factorial(i)\n",
    "print(\"{:.10f}\".format(e))"
   ]
  },
  {
   "cell_type": "code",
   "execution_count": 29,
   "metadata": {},
   "outputs": [
    {
     "name": "stdout",
     "output_type": "stream",
     "text": [
      "31.00\n"
     ]
    }
   ],
   "source": [
    "# B2080 计算多项式的值\n",
    "# https://www.luogu.com.cn/problem/B2080\n",
    "x,n = input().split()\n",
    "x = float(x)\n",
    "n = int(n)\n",
    "s = 0\n",
    "for i in range(n+1):\n",
    "    s += x**i\n",
    "print(\"{:.2f}\".format(s))"
   ]
  },
  {
   "cell_type": "code",
   "execution_count": 8,
   "metadata": {},
   "outputs": [
    {
     "name": "stdout",
     "output_type": "stream",
     "text": [
      "2336\n"
     ]
    }
   ],
   "source": [
    "# B2081 与 7 无关的数\n",
    "# https://www.luogu.com.cn/problem/B2081\n",
    "\n",
    "n = int(input())\n",
    "sum1 = 0\n",
    "def not_related_7(x):\n",
    "    \n",
    "    if (x % 7 == 0) or (str(x).count('7') > 0):\n",
    "        return 0\n",
    "    else:\n",
    "        return x\n",
    "for i in range(1,n+1):\n",
    "    sum1 += not_related_7(i)**2\n",
    "print(sum1)"
   ]
  },
  {
   "cell_type": "code",
   "execution_count": 12,
   "metadata": {},
   "outputs": [
    {
     "name": "stdout",
     "output_type": "stream",
     "text": [
      "6\n"
     ]
    }
   ],
   "source": [
    "# B2082 数字统计\n",
    "# https://www.luogu.com.cn/problem/B2082\n",
    "\n",
    "L,R = map(int,input().split())\n",
    "\n",
    "count = 0\n",
    "for i in range(L,R+1):\n",
    "    count += str(i).count('2')\n",
    "print(count)"
   ]
  },
  {
   "cell_type": "code",
   "execution_count": 14,
   "metadata": {},
   "outputs": [
    {
     "name": "stdout",
     "output_type": "stream",
     "text": [
      "*******\n",
      "*     *\n",
      "*     *\n",
      "*     *\n",
      "*     *\n",
      "*     *\n",
      "*******\n"
     ]
    }
   ],
   "source": [
    "# B2083 画矩形\n",
    "# https://www.luogu.com.cn/problem/B2083\n",
    "a,b,c,f = input().split()\n",
    "a,b,c,f = int(a),int(b),str(c),int(f)\n",
    "\n",
    "if f == 0:\n",
    "    print(c*b)\n",
    "    for i in range(a-2):\n",
    "        print(c+' '*(b-2)+c)\n",
    "    print(c*b)\n",
    "else:\n",
    "    for i in range(a):\n",
    "        print(c*b)\n"
   ]
  },
  {
   "cell_type": "code",
   "execution_count": null,
   "metadata": {},
   "outputs": [
    {
     "name": "stdout",
     "output_type": "stream",
     "text": [
      "7\n"
     ]
    }
   ],
   "source": [
    "# B2084 质因数分解\n",
    "# https://www.luogu.com.cn/problem/B2084\n",
    "n = int(input())\n",
    "\n",
    "def is_prime(n):\n",
    "    for i in range(2, int(n**0.5)+1):\n",
    "        if n % i == 0:\n",
    "            return False\n",
    "    return True\n",
    "\n",
    "for i in range(n-1,1,-1):\n",
    "    if n % i == 0 and is_prime(i):\n",
    "        break;  \n",
    "\n",
    "print(i)"
   ]
  },
  {
   "cell_type": "code",
   "execution_count": 21,
   "metadata": {},
   "outputs": [
    {
     "name": "stdout",
     "output_type": "stream",
     "text": [
      "29\n"
     ]
    }
   ],
   "source": [
    "# B2085 第 n 小的质数\n",
    "# https://www.luogu.com.cn/problem/B2085\n",
    "\n",
    "n = int(input())\n",
    "\n",
    "def is_prime(num):\n",
    "    if num < 2:\n",
    "        return False\n",
    "    for i in range(2, int(num**0.5)+1):\n",
    "        if num % i == 0:\n",
    "            return False\n",
    "    return True\n",
    "\n",
    "count = 0\n",
    "num = 2\n",
    "while count < n:\n",
    "    if is_prime(num):\n",
    "        count += 1\n",
    "    num += 1\n",
    "print(num-1)"
   ]
  },
  {
   "cell_type": "code",
   "execution_count": 24,
   "metadata": {},
   "outputs": [
    {
     "name": "stdout",
     "output_type": "stream",
     "text": [
      "4\n"
     ]
    }
   ],
   "source": [
    "# B2086 不定方程求解\n",
    "# https://www.luogu.com.cn/problem/B2086\n",
    "\n",
    "a, b, c = map(int, input().split())\n",
    "count = 0\n",
    "for x in range(int(c/a)+1):\n",
    "    y = (c-a*x)/b\n",
    "    if y.is_integer():\n",
    "        count += 1\n",
    "print(count)\n"
   ]
  },
  {
   "cell_type": "code",
   "execution_count": 28,
   "metadata": {},
   "outputs": [
    {
     "name": "stdout",
     "output_type": "stream",
     "text": [
      "2\n"
     ]
    }
   ],
   "source": [
    "# B2087 与指定数字相同的数的个数\n",
    "# https://www.luogu.com.cn/problem/B2087\n",
    "\n",
    "n = int(input())\n",
    "k = input().split()\n",
    "m = input()\n",
    "print(k.count(m))"
   ]
  },
  {
   "cell_type": "code",
   "execution_count": null,
   "metadata": {},
   "outputs": [
    {
     "name": "stdout",
     "output_type": "stream",
     "text": [
      "2140.20\n"
     ]
    }
   ],
   "source": [
    "# B2088 计算书费\n",
    "# https://www.luogu.com.cn/problem/B2088\n",
    "num_books = input().split()\n",
    "book_prices = [28.9,32.7,45.6,78,35,86.2,27.8,43,56,65]\n",
    "total_price = 0\n",
    "for i in range(len(num_books)):\n",
    "    total_price += int(num_books[i]) * book_prices[i]\n",
    "print(\"{:.1f}\".format(total_price))\n"
   ]
  },
  {
   "cell_type": "code",
   "execution_count": 40,
   "metadata": {},
   "outputs": [
    {
     "name": "stdout",
     "output_type": "stream",
     "text": [
      "1 4 5 6 8\n"
     ]
    }
   ],
   "source": [
    "# B2089 数组逆序重存放\n",
    "# https://www.luogu.com.cn/problem/B2089\n",
    "n = int(input())\n",
    "a = list(map(int, input().split()))\n",
    "a.reverse()\n",
    "print(*a)"
   ]
  },
  {
   "cell_type": "code",
   "execution_count": 41,
   "metadata": {},
   "outputs": [
    {
     "name": "stdout",
     "output_type": "stream",
     "text": [
      "20.00%\n",
      "20.00%\n",
      "20.00%\n",
      "40.00%\n"
     ]
    }
   ],
   "source": [
    "# B2090 年龄与疾病\n",
    "# https://www.luogu.com.cn/problem/B2090\n",
    "n = int(input())\n",
    "age = list(map(int, input().split()))\n",
    "\n",
    "age_count_0 = 0\n",
    "age_count_19 = 0\n",
    "age_count_36 = 0\n",
    "age_count_61 = 0\n",
    "\n",
    "for i in range(n):\n",
    "    if 0 <= age[i] <= 18:\n",
    "        age_count_0 += 1\n",
    "    elif 19 <= age[i] <= 35:\n",
    "        age_count_19 += 1\n",
    "    elif 36 <= age[i] <= 60:\n",
    "        age_count_36 += 1\n",
    "    else:\n",
    "        age_count_61 += 1\n",
    "print(\"{:.2%}\".format(age_count_0/n))\n",
    "print(\"{:.2%}\".format(age_count_19/n))\n",
    "print(\"{:.2%}\".format(age_count_36/n))\n",
    "print(\"{:.2%}\".format(age_count_61/n))"
   ]
  },
  {
   "cell_type": "code",
   "execution_count": 44,
   "metadata": {},
   "outputs": [
    {
     "name": "stdout",
     "output_type": "stream",
     "text": [
      "36\n"
     ]
    }
   ],
   "source": [
    "# B2091 向量点积计算\n",
    "# https://www.luogu.com.cn/problem/B2091\n",
    "n = int(input())\n",
    "a = list(map(int, input().split()))\n",
    "b = list(map(int, input().split()))\n",
    "dot_product = 0\n",
    "for i in range(n):\n",
    "    dot_product += a[i] * b[i]\n",
    "print(dot_product)"
   ]
  },
  {
   "cell_type": "code",
   "execution_count": 62,
   "metadata": {},
   "outputs": [
    {
     "name": "stdout",
     "output_type": "stream",
     "text": [
      "1 4 "
     ]
    }
   ],
   "source": [
    "# B2092 开关灯\n",
    "# https://www.luogu.com.cn/problem/B2092\n",
    "N = int(input())\n",
    "lights = [True] * N\n",
    "\n",
    "\n",
    "for i in range(1,N+1):\n",
    "    for j in range(i,N+1,i):\n",
    "        if  j % i == 0:\n",
    "             lights[j-1] = not lights[j-1]\n",
    "for i in range(N):\n",
    "    if not lights[i]:\n",
    "        print(i+1, end=' ')\n"
   ]
  },
  {
   "cell_type": "code",
   "execution_count": 64,
   "metadata": {},
   "outputs": [
    {
     "name": "stdout",
     "output_type": "stream",
     "text": [
      "1\n"
     ]
    }
   ],
   "source": [
    "# B2093 查找特定的值\n",
    "# https://www.luogu.com.cn/problem/B2093\n",
    "n = int(input())\n",
    "a = list(map(int, input().split()))\n",
    "m = int(input())\n",
    "if m in a:\n",
    "    print(a.index(m))\n",
    "else:\n",
    "    print(-1)"
   ]
  },
  {
   "cell_type": "code",
   "execution_count": 65,
   "metadata": {},
   "outputs": [
    {
     "name": "stdout",
     "output_type": "stream",
     "text": [
      "3\n"
     ]
    }
   ],
   "source": [
    "# B2094 不与最大数相同的数字之和\n",
    "# https://www.luogu.com.cn/problem/B2094\n",
    "N = int(input())\n",
    "if N == 0:\n",
    "    print(0)\n",
    "    exit()\n",
    "nums = list(map(int, input().split()))\n",
    "\n",
    "max_num = nums[0]\n",
    "sum_ = 0\n",
    "for i in range(1, N):\n",
    "    if nums[i] > max_num:\n",
    "        max_num = nums[i]\n",
    "for i in range(N):\n",
    "    if nums[i] != max_num:\n",
    "        sum_ += nums[i]\n",
    "print(sum_)"
   ]
  },
  {
   "cell_type": "code",
   "execution_count": null,
   "metadata": {},
   "outputs": [
    {
     "name": "stdout",
     "output_type": "stream",
     "text": [
      "11.00 2.00\n"
     ]
    }
   ],
   "source": [
    "# B2095 白细胞计数\n",
    "# https://www.luogu.com.cn/problem/B2095\n",
    "n = int(input())\n",
    "sum_num = 0\n",
    "num_cell = [float(input()) for i in range(n)]\n",
    "\n",
    "max_num = max(num_cell)\n",
    "min_num = min(num_cell)\n",
    "num_cell.remove(max_num)\n",
    "num_cell.remove(min_num)\n",
    "\n",
    "for i in range(len(num_cell)):\n",
    "    sum_num += num_cell[i]\n",
    "mean_num = sum_num / (n - 2)\n",
    "\n",
    "max_abs_diff = 0\n",
    "for i in range(len(num_cell)):\n",
    "    abs_diff = abs(num_cell[i] - mean_num)\n",
    "    if abs_diff > max_abs_diff:\n",
    "        max_abs_diff = abs_diff\n",
    "\n",
    "print(\"{0:.2f} {1:.2f}\".format(mean_num, max_abs_diff))"
   ]
  },
  {
   "cell_type": "code",
   "execution_count": null,
   "metadata": {},
   "outputs": [
    {
     "name": "stdout",
     "output_type": "stream",
     "text": [
      "0\n",
      "3\n",
      "1\n",
      "1\n"
     ]
    }
   ],
   "source": [
    "# B2096 直方图\n",
    "# https://www.luogu.com.cn/problem/P2096\n",
    "n = int(input())\n",
    "a = list(map(int, input().split()))\n",
    "max_a = a[0]\n",
    "for i in range(1, n):\n",
    "    if a[i] > max_a:\n",
    "        max_a = a[i]\n",
    "count = [0] * (max_a+1)\n",
    "\n",
    "for i in range(n):\n",
    "    count[a[i]] += 1\n",
    "\n",
    "for i in range(max_a+1):\n",
    "    print(count[i] )\n"
   ]
  },
  {
   "cell_type": "code",
   "execution_count": 76,
   "metadata": {},
   "outputs": [
    {
     "name": "stdout",
     "output_type": "stream",
     "text": [
      "3\n"
     ]
    }
   ],
   "source": [
    "# B2097 最长平台\n",
    "# https://www.luogu.com.cn/problem/B2097\n",
    "n = int(input())\n",
    "a = list(map(int, input().split()))\n",
    "dp = []\n",
    "for i in range(n):\n",
    "    for j in range(i+1, n):\n",
    "        if a[j]  - a[i] != 0:\n",
    "            break;          #    这里的break是为了跳出内层循环，防止重复计算\n",
    "        else:\n",
    "            dp.append(j-i+1)\n",
    "print(max(dp))"
   ]
  },
  {
   "cell_type": "code",
   "execution_count": 81,
   "metadata": {},
   "outputs": [
    {
     "name": "stdout",
     "output_type": "stream",
     "text": [
      "10 12 93 75 "
     ]
    }
   ],
   "source": [
    "# B2098 整数去重\n",
    "# https://www.luogu.com.cn/problem/B2098\n",
    "n = int(input())\n",
    "a =list(map(int, input().split()))\n",
    "\n",
    "b = list(set(a))\n",
    "index_list = []\n",
    "\n",
    "for i in b:\n",
    "    index_list.append(a.index(i))\n",
    "index_list.sort()\n",
    "for i in index_list:\n",
    "    print(a[i], end=' ')\n"
   ]
  },
  {
   "cell_type": "code",
   "execution_count": null,
   "metadata": {},
   "outputs": [],
   "source": [
    "# B2099 矩阵交换行\n",
    "# https://www.luogu.com.cn/problem/B2099\n",
    "matrix = []\n",
    "for i in range(5):\n",
    "    matrix.append(list(map(int, input().split())))\n",
    "m,n = map(int, input().split())\n",
    "matrix[m-1],matrix[n-1] = matrix[n-1],matrix[m-1]\n",
    "for i in range(5):\n",
    "    print(*matrix[i])"
   ]
  },
  {
   "cell_type": "code",
   "execution_count": 113,
   "metadata": {},
   "outputs": [
    {
     "name": "stdout",
     "output_type": "stream",
     "text": [
      "(2,1) (2,2) (2,3) (2,4) \n",
      "(1,3) (2,3) (3,3) (4,3) \n",
      "(1,2) (2,3) (3,4) \n",
      "(4,1) (3,2) (2,3) (1,4) "
     ]
    }
   ],
   "source": [
    "# B2100 同行列对角线的格\n",
    "# https://www.luogu.com.cn/problem/B2100\n",
    "N,i,j = 4,2,3\n",
    "# N,i,j = map(int,input().split())\n",
    "\n",
    "\n",
    "# 输出同行的格子\n",
    "for k in range(1,N+1):\n",
    "    print(\"(%d,%d)\" %(i,k),end=' ')\n",
    "print()\n",
    "\n",
    "# 输出同列的格子\n",
    "for k in range(1,N+1):\n",
    "    print(\"(%d,%d)\" %(k,j),end=' ')\n",
    "print()\n",
    "\n",
    "\n",
    "# 输出副对角线的格子\n",
    "for k in range(N):\n",
    "    for l in range(N):\n",
    "        if k-l == i-j:\n",
    "            print(\"(%d,%d)\" % (k+1,l+1),end=' ')\n",
    "print()\n",
    "\n",
    "# 输出主对角线的格子\n",
    "for k in range(N,0,-1):\n",
    "    for l in range(1,N+1):\n",
    "        if k+l == i+j:\n",
    "            print(\"(%d,%d)\" % (k,l),end=' ')\n"
   ]
  }
 ],
 "metadata": {
  "kernelspec": {
   "display_name": "base",
   "language": "python",
   "name": "python3"
  },
  "language_info": {
   "codemirror_mode": {
    "name": "ipython",
    "version": 3
   },
   "file_extension": ".py",
   "mimetype": "text/x-python",
   "name": "python",
   "nbconvert_exporter": "python",
   "pygments_lexer": "ipython3",
   "version": "3.12.7"
  }
 },
 "nbformat": 4,
 "nbformat_minor": 2
}
