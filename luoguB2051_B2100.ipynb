{
 "cells": [
  {
   "cell_type": "markdown",
   "metadata": {},
   "source": [
    "# 洛谷刷题笔记——Python\n",
    "包含B2051_B2100"
   ]
  },
  {
   "cell_type": "code",
   "execution_count": 8,
   "metadata": {},
   "outputs": [
    {
     "ename": "ValueError",
     "evalue": "not enough values to unpack (expected 2, got 1)",
     "output_type": "error",
     "traceback": [
      "\u001b[1;31m---------------------------------------------------------------------------\u001b[0m",
      "\u001b[1;31mValueError\u001b[0m                                Traceback (most recent call last)",
      "Cell \u001b[1;32mIn[8], line 3\u001b[0m\n\u001b[0;32m      1\u001b[0m \u001b[38;5;66;03m# B2051 点和正方形的关系\u001b[39;00m\n\u001b[0;32m      2\u001b[0m \u001b[38;5;66;03m# https://www.luogu.com.cn/problem/B2051\u001b[39;00m\n\u001b[1;32m----> 3\u001b[0m x, y \u001b[38;5;241m=\u001b[39m \u001b[38;5;28mmap\u001b[39m(\u001b[38;5;28mint\u001b[39m, \u001b[38;5;28minput\u001b[39m()\u001b[38;5;241m.\u001b[39msplit())\n\u001b[0;32m      5\u001b[0m \u001b[38;5;28;01mif\u001b[39;00m \u001b[38;5;241m-\u001b[39m\u001b[38;5;241m1\u001b[39m \u001b[38;5;241m<\u001b[39m\u001b[38;5;241m=\u001b[39m x \u001b[38;5;241m<\u001b[39m\u001b[38;5;241m=\u001b[39m \u001b[38;5;241m1\u001b[39m \u001b[38;5;129;01mand\u001b[39;00m \u001b[38;5;241m-\u001b[39m\u001b[38;5;241m1\u001b[39m \u001b[38;5;241m<\u001b[39m\u001b[38;5;241m=\u001b[39m y \u001b[38;5;241m<\u001b[39m\u001b[38;5;241m=\u001b[39m \u001b[38;5;241m1\u001b[39m:\n\u001b[0;32m      6\u001b[0m     \u001b[38;5;28mprint\u001b[39m(\u001b[38;5;124m\"\u001b[39m\u001b[38;5;124myes\u001b[39m\u001b[38;5;124m\"\u001b[39m)\n",
      "\u001b[1;31mValueError\u001b[0m: not enough values to unpack (expected 2, got 1)"
     ]
    }
   ],
   "source": [
    "# B2051 点和正方形的关系\n",
    "# https://www.luogu.com.cn/problem/B2051\n",
    "x, y = map(int, input().split())\n",
    "\n",
    "if -1 <= x <= 1 and -1 <= y <= 1:\n",
    "    print(\"yes\")\n",
    "else:\n",
    "    print(\"no\")"
   ]
  },
  {
   "cell_type": "code",
   "execution_count": 2,
   "metadata": {},
   "outputs": [
    {
     "name": "stdout",
     "output_type": "stream",
     "text": [
      "3\n"
     ]
    }
   ],
   "source": [
    "# B2052 简单计算器\n",
    "# https://www.luogu.com.cn/problem/B2052\n",
    "x, y, c = input().split()\n",
    "x = int(x)\n",
    "y = int(y)\n",
    "\n",
    "if c == '+':\n",
    "    result = x + y\n",
    "elif c == '-':\n",
    "    result = x - y\n",
    "elif c == '*':\n",
    "    result = x * y\n",
    "elif c == '/':\n",
    "    if y == 0:\n",
    "        print('Divided by zero!')\n",
    "        exit()  # 提前结束程序\n",
    "    result = x / y\n",
    "else:\n",
    "    print('Invalid operator!')\n",
    "    exit()  # 提前结束程序\n",
    "\n",
    "print(int(result))\n"
   ]
  },
  {
   "cell_type": "code",
   "execution_count": 3,
   "metadata": {},
   "outputs": [
    {
     "name": "stdout",
     "output_type": "stream",
     "text": [
      "x1 = -0.44781;x2 = 1.68075\n"
     ]
    }
   ],
   "source": [
    "# B2053 求一元二次方程\n",
    "# https://www.luogu.com.cn/problem/B2053\n",
    "a, b, c = map(float, input().split())\n",
    "delta = b**2 - 4*a*c\n",
    "if delta > 0:\n",
    "    x1 = (-b - delta**0.5) / (2*a)\n",
    "    x2 = (-b + delta**0.5) / (2*a)\n",
    "    if x1 > x2:\n",
    "        x1, x2 = x2, x1\n",
    "    print(\"x1={0:.5f};x2={1:.5f}\" .format(x1, x2))\n",
    "elif delta == 0:\n",
    "    x = -b / (2*a)\n",
    "    print(\"x1=x2={0:.5f}\" .format(x)) \n",
    "else:\n",
    "    print(\"No answer!\")"
   ]
  },
  {
   "cell_type": "code",
   "execution_count": 5,
   "metadata": {},
   "outputs": [
    {
     "name": "stdout",
     "output_type": "stream",
     "text": [
      "17.50\n"
     ]
    }
   ],
   "source": [
    "# B2054 求平均年龄\n",
    "# https://www.luogu.com.cn/problem/B2054\n",
    "n = int(input())\n",
    "sum_age = 0\n",
    "for i in range(n):\n",
    "    age = int(input())\n",
    "    sum_age += age\n",
    "print(\"{:.2f}\".format(sum_age / n)) # 保留两位小数"
   ]
  },
  {
   "cell_type": "code",
   "execution_count": 6,
   "metadata": {},
   "outputs": [
    {
     "name": "stdout",
     "output_type": "stream",
     "text": [
      "2.0\n"
     ]
    }
   ],
   "source": [
    "# B2055 均值\n",
    "# https://www.luogu.com.cn/problem/B2055\n",
    "\n",
    "n = int(input())\n",
    "a = list(map(float, input().split()))\n",
    "\n",
    "sum = 0\n",
    "for i in range(n):\n",
    "    sum += a[i]\n",
    "mean = sum / n\n",
    "\n",
    "print(\"{:.4f}\".format(mean)) # 输出四位小数"
   ]
  },
  {
   "cell_type": "code",
   "execution_count": 7,
   "metadata": {},
   "outputs": [
    {
     "name": "stdout",
     "output_type": "stream",
     "text": [
      "282.75000\n"
     ]
    }
   ],
   "source": [
    "# B2056 求整数的和与均值\n",
    "# https://www.luogu.com.cn/problem/B2056\n",
    "n = int(input())\n",
    "sum = 0\n",
    "for i in range(n):\n",
    "    sum += int(input())\n",
    "print(\"{0} {1:.5f}\".format(int(sum),sum / n)) # 保证输出5位小数"
   ]
  },
  {
   "cell_type": "code",
   "execution_count": 8,
   "metadata": {},
   "outputs": [
    {
     "name": "stdout",
     "output_type": "stream",
     "text": [
      "99\n"
     ]
    }
   ],
   "source": [
    "# B2057 最高的分数\n",
    "# https://www.luogu.com.cn/problem/B2057\n",
    "n = int(input())\n",
    "scores= list(map(int, input().split()))\n",
    "\n",
    "# a = sorted(scores, reverse=True) # 降序排序\n",
    "print(max(scores))"
   ]
  },
  {
   "cell_type": "code",
   "execution_count": 10,
   "metadata": {},
   "outputs": [
    {
     "name": "stdout",
     "output_type": "stream",
     "text": [
      "4 4 3 11\n"
     ]
    }
   ],
   "source": [
    "# B2058 奥运奖牌计数\n",
    "# https://www.luogu.com.cn/problem/B2058\n",
    "n = int(input())\n",
    "gold = 0\n",
    "silver = 0\n",
    "bronze = 0\n",
    "for i in range(n):\n",
    "    a = list(map(int, input().split()))\n",
    "    gold += a[0]\n",
    "    silver += a[1]\n",
    "    bronze += a[2]\n",
    "print(gold, silver, bronze,gold+silver+bronze)"
   ]
  },
  {
   "cell_type": "code",
   "execution_count": 11,
   "metadata": {},
   "outputs": [
    {
     "name": "stdout",
     "output_type": "stream",
     "text": [
      "55\n"
     ]
    }
   ],
   "source": [
    "# B2059 奇数求和\n",
    "# https://www.luogu.com.cn/problem/B2059\n",
    "m,n=map(int,input().split())\n",
    "sum=0\n",
    "if m%2==0:\n",
    "    m+=1\n",
    "for i in range(m,n+1,2):\n",
    "    sum+=i\n",
    "print(sum)"
   ]
  },
  {
   "cell_type": "code",
   "execution_count": 15,
   "metadata": {},
   "outputs": [
    {
     "name": "stdout",
     "output_type": "stream",
     "text": [
      "204\n"
     ]
    }
   ],
   "source": [
    "# B2060 满足条件的数累加\n",
    "# https://www.luogu.com.cn/problem/B2060\n",
    "m, n = map(int, input().split())\n",
    "total = 0\n",
    "for i in range(m, n+1):\n",
    "    if i % 17 == 0:\n",
    "        total += i\n",
    "print(total)\n"
   ]
  },
  {
   "cell_type": "code",
   "execution_count": 16,
   "metadata": {},
   "outputs": [
    {
     "name": "stdout",
     "output_type": "stream",
     "text": [
      "1\n",
      "2\n",
      "1\n"
     ]
    }
   ],
   "source": [
    "# B2061 整数的个数\n",
    "# https://www.luogu.com.cn/problem/P2061\n",
    "k = int(input())\n",
    "kn = map(int, input().split())\n",
    "i_1 = 0\n",
    "i_5 = 0\n",
    "i_10 = 0\n",
    "for i in kn:\n",
    "    if i == 1:\n",
    "        i_1 += 1\n",
    "    elif i == 5:\n",
    "        i_5 += 1\n",
    "    elif i == 10:\n",
    "        i_10 += 1\n",
    "print(i_1)\n",
    "print(i_5)\n",
    "print(i_10)"
   ]
  },
  {
   "cell_type": "code",
   "execution_count": 17,
   "metadata": {},
   "outputs": [
    {
     "name": "stdout",
     "output_type": "stream",
     "text": [
      "8\n"
     ]
    }
   ],
   "source": [
    "# B2062 乘方计算\n",
    "# https://www.luogu.com.cn/problem/B2062\n",
    "a,n=map(int,input().split())\n",
    "print(a**n)"
   ]
  },
  {
   "cell_type": "code",
   "execution_count": 18,
   "metadata": {},
   "outputs": [
    {
     "name": "stdout",
     "output_type": "stream",
     "text": [
      "13.1306\n"
     ]
    }
   ],
   "source": [
    "# B2063 人口增长问题\n",
    "# https://www.luogu.com.cn/problem/B2063\n",
    "x,n = map(int,input().split())\n",
    "x_n = x * (1 + 0.001) ** n\n",
    "print(\"{:.4f}\".format(x_n))"
   ]
  },
  {
   "cell_type": "code",
   "execution_count": 21,
   "metadata": {},
   "outputs": [
    {
     "name": "stdout",
     "output_type": "stream",
     "text": [
      "5\n",
      "1\n",
      "4181\n",
      "1\n"
     ]
    }
   ],
   "source": [
    "# B2064 斐波那契数列\n",
    "# https://www.luogu.com.cn/problem/P2064\n",
    "n = int(input())\n",
    "\n",
    "def fib(n):\n",
    "    if n == 0:\n",
    "        return 0\n",
    "    elif n == 1:\n",
    "        return 1\n",
    "    else:\n",
    "        return fib(n-1) + fib(n-2)\n",
    "\n",
    "for i in range(n):\n",
    "    an = fib(int(input()))\n",
    "    print(an)"
   ]
  },
  {
   "cell_type": "code",
   "execution_count": null,
   "metadata": {},
   "outputs": [],
   "source": [
    "# B2065 鸡尾酒疗法\n",
    "# https://www.luogu.com.cn/problem/P2065\n",
    "n = int(input())\n",
    "a1, b1 = map(int, input().split())\n",
    "rate = b1/a1 * 100\n",
    "for i in range(n-1):\n",
    "    a, b = map(int, input().split())\n",
    "    if b/a*100-rate>5:\n",
    "        print(\"better\")\n",
    "    elif rate-b/a*100>5:\n",
    "        print(\"worse\")\n",
    "    else:\n",
    "        print(\"same\")\n",
    "    "
   ]
  },
  {
   "cell_type": "code",
   "execution_count": null,
   "metadata": {},
   "outputs": [
    {
     "name": "stdout",
     "output_type": "stream",
     "text": [
      "7\n"
     ]
    }
   ],
   "source": [
    "# B2066 救援\n",
    "# https://www.luogu.com.cn/problem/B2066\n",
    "from math import ceil\n",
    "n = int(input())\n",
    "time = 0\n",
    "for i in range(n):\n",
    "    x, y ,number= input().split()\n",
    "    x = float(x)\n",
    "    y = float(y)\n",
    "    number = int(number)\n",
    "    time += 2*(x**2 + y**2)**0.5 / 50 + number * 1.5\n",
    "print(ceil(time))"
   ]
  },
  {
   "cell_type": "code",
   "execution_count": 25,
   "metadata": {},
   "outputs": [
    {
     "name": "stdout",
     "output_type": "stream",
     "text": [
      "1\n"
     ]
    }
   ],
   "source": [
    "# B2067 药房管理\n",
    "# https://www.luogu.com.cn/problem/P2067\n",
    "m = int(input())\n",
    "n = int(input())\n",
    "medicine_list = list(map(int, input().split()))\n",
    "number_not_enough = 0\n",
    "\n",
    "for i in medicine_list:\n",
    "    if i <= m:\n",
    "        m -= i\n",
    "    else:\n",
    "        number_not_enough += 1\n",
    "print(number_not_enough)"
   ]
  },
  {
   "cell_type": "code",
   "execution_count": 26,
   "metadata": {},
   "outputs": [
    {
     "name": "stdout",
     "output_type": "stream",
     "text": [
      "3\n"
     ]
    }
   ],
   "source": [
    "# B2068 统计满足条件的 4 位数\n",
    "# https://www.luogu.com.cn/problem/B2068\n",
    "n = int(input())\n",
    "numbers_list = list(map(int, input().split()))\n",
    "count = 0\n",
    "for number in numbers_list:\n",
    "    a, b, c, d = map(int, str(number))\n",
    "    if d - a-b-c > 0:\n",
    "        count += 1\n",
    "print(count)"
   ]
  },
  {
   "cell_type": "code",
   "execution_count": 10,
   "metadata": {},
   "outputs": [
    {
     "name": "stdout",
     "output_type": "stream",
     "text": [
      "10.0071\n"
     ]
    }
   ],
   "source": [
    "# B2069 求分数序列和\n",
    "# https://www.luogu.com.cn/problem/B2069\n",
    "n = int(input())\n",
    "\n",
    "def sum_of_fractions(n):\n",
    "    p1 = 1\n",
    "    q1 = 2\n",
    "    q2 = p1 + q1\n",
    "    s = 0\n",
    "\n",
    "    for i in range(1, n+1):\n",
    "        s += q1/p1\n",
    "        q2 = p1 + q1\n",
    "        p1 = q1        \n",
    "        q1 = q2\n",
    "        \n",
    "    return s\n",
    "print(\"{:.4f}\".format(sum_of_fractions(n)))"
   ]
  },
  {
   "cell_type": "code",
   "execution_count": 58,
   "metadata": {},
   "outputs": [
    {
     "name": "stdout",
     "output_type": "stream",
     "text": [
      "0.8333\n"
     ]
    }
   ],
   "source": [
    "# B2070 计算分数加减表达式的值\n",
    "# https://www.luogu.com.cn/problem/B2070\n",
    "n = int(input())\n",
    "\n",
    "def calculate(n):\n",
    "    a = 1\n",
    "    s = 0\n",
    "    for i in range(1, n+1):\n",
    "        a = (-1)**(i-1) * 1 / i\n",
    "        s += a\n",
    "    return s\n",
    "\n",
    "print(\"{:.4f}\".format(calculate(n)))\n"
   ]
  },
  {
   "cell_type": "code",
   "execution_count": null,
   "metadata": {},
   "outputs": [
    {
     "name": "stdout",
     "output_type": "stream",
     "text": [
      "19\n"
     ]
    }
   ],
   "source": [
    "# B2071 余数相同问题\n",
    "# https://www.luogu.com.cn/problem/B2071\n",
    "a,b,c = map(int,input().split())\n",
    "x = 2\n",
    "\n",
    "while not(a % x == b % x == c % x):\n",
    "    x += 1\n",
    "print(x)"
   ]
  },
  {
   "cell_type": "code",
   "execution_count": 4,
   "metadata": {},
   "outputs": [
    {
     "name": "stdout",
     "output_type": "stream",
     "text": [
      "36\n"
     ]
    }
   ],
   "source": [
    "# B2072 分苹果\n",
    "# https://www.luogu.com.cn/problem/B2072\n",
    "n = int(input())\n",
    "print(int(n * (n + 1) / 2))"
   ]
  },
  {
   "cell_type": "code",
   "execution_count": 2,
   "metadata": {},
   "outputs": [
    {
     "name": "stdout",
     "output_type": "stream",
     "text": [
      "36\n"
     ]
    }
   ],
   "source": [
    "# B2073 求小数的某一位\n",
    "# https://www.luogu.com.cn/problem/B2073\n"
   ]
  },
  {
   "cell_type": "code",
   "execution_count": null,
   "metadata": {},
   "outputs": [],
   "source": []
  },
  {
   "cell_type": "code",
   "execution_count": null,
   "metadata": {},
   "outputs": [],
   "source": []
  },
  {
   "cell_type": "code",
   "execution_count": null,
   "metadata": {},
   "outputs": [],
   "source": []
  },
  {
   "cell_type": "code",
   "execution_count": null,
   "metadata": {},
   "outputs": [],
   "source": []
  },
  {
   "cell_type": "code",
   "execution_count": null,
   "metadata": {},
   "outputs": [],
   "source": []
  },
  {
   "cell_type": "code",
   "execution_count": null,
   "metadata": {},
   "outputs": [],
   "source": []
  },
  {
   "cell_type": "code",
   "execution_count": null,
   "metadata": {},
   "outputs": [],
   "source": []
  },
  {
   "cell_type": "code",
   "execution_count": null,
   "metadata": {},
   "outputs": [],
   "source": []
  },
  {
   "cell_type": "code",
   "execution_count": null,
   "metadata": {},
   "outputs": [],
   "source": []
  }
 ],
 "metadata": {
  "kernelspec": {
   "display_name": "base",
   "language": "python",
   "name": "python3"
  },
  "language_info": {
   "codemirror_mode": {
    "name": "ipython",
    "version": 3
   },
   "file_extension": ".py",
   "mimetype": "text/x-python",
   "name": "python",
   "nbconvert_exporter": "python",
   "pygments_lexer": "ipython3",
   "version": "3.12.7"
  }
 },
 "nbformat": 4,
 "nbformat_minor": 2
}
