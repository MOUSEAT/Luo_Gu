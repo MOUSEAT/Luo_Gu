{
 "cells": [
  {
   "cell_type": "markdown",
   "metadata": {},
   "source": [
    "# 洛谷刷题笔记——python\n",
    "\n",
    "包含B2001——B2050"
   ]
  },
  {
   "cell_type": "code",
   "execution_count": null,
   "metadata": {},
   "outputs": [],
   "source": [
    "# B2001 入门测试题目\n",
    "a,b = input().split()\n",
    "a = int(a)\n",
    "b = int(b)\n",
    "\n",
    "print(a+b)"
   ]
  },
  {
   "cell_type": "code",
   "execution_count": null,
   "metadata": {},
   "outputs": [],
   "source": [
    "# B2002 Hello,World!\n",
    "print(\"Hello,World!\")"
   ]
  },
  {
   "cell_type": "code",
   "execution_count": null,
   "metadata": {},
   "outputs": [],
   "source": [
    "# B2003 输出第二个整数\n",
    "a,b,c = input().split()\n",
    "b = int(b)\n",
    "print(b)"
   ]
  },
  {
   "cell_type": "code",
   "execution_count": 3,
   "metadata": {},
   "outputs": [
    {
     "name": "stdout",
     "output_type": "stream",
     "text": [
      "27.642%\n"
     ]
    }
   ],
   "source": [
    "#%%B2004 对齐输出\n",
    "a,b,c = input().split()\n",
    "a = int(a)\n",
    "b = int(b)\n",
    "c = int(c)\n",
    "\n",
    "print(\"{0:>8} {1:>8} {2:>8}\".format(a,b,c))\n",
    "\n"
   ]
  },
  {
   "cell_type": "code",
   "execution_count": null,
   "metadata": {},
   "outputs": [],
   "source": [
    "#%%B2005 字符三角形\n",
    "s = input()\n",
    "print(f\"  {s}\\n {s*3}\\n{s*5}\")\n",
    "\n",
    "#%%B2006 地球人口承载力估计\n",
    "x,a,y,b = input().split()\n",
    "x = float(x);a = float(a)\n",
    "y = float(y);b = float(b)\n",
    "z = (x*a-y*b)/(a-b)\n",
    "print(\"%.2f\" % z)\n"
   ]
  },
  {
   "cell_type": "code",
   "execution_count": null,
   "metadata": {},
   "outputs": [],
   "source": [
    "#%% B2007 A + B 问题\n",
    "x,y= input().split()\n",
    "x = int(x)\n",
    "y = int(y)\n",
    "z = x+y\n",
    "print(z)\n"
   ]
  },
  {
   "cell_type": "code",
   "execution_count": null,
   "metadata": {},
   "outputs": [],
   "source": [
    "#%%B2008 计算 (a+b)×c 的值\n",
    "a,b,c= input().split()\n",
    "a = int(a)\n",
    "b = int(b)\n",
    "c = int(c)\n",
    "z = (a+b)*c\n",
    "print(z)"
   ]
  },
  {
   "cell_type": "code",
   "execution_count": null,
   "metadata": {},
   "outputs": [],
   "source": [
    "#%%B2009 计算 (a+b)/c 的值\n",
    "a,b,c= input().split()\n",
    "a = int(a)\n",
    "b = int(b)\n",
    "c = int(c)\n",
    "z = (a+b)//c\n",
    "print(z)"
   ]
  },
  {
   "cell_type": "code",
   "execution_count": null,
   "metadata": {},
   "outputs": [],
   "source": [
    "#%%B2010 带余除法\n",
    "a,b= input().split()\n",
    "a = int(a)\n",
    "b = int(b)\n",
    "x = a // b\n",
    "y = a % b\n",
    "print(x,y)"
   ]
  },
  {
   "cell_type": "code",
   "execution_count": null,
   "metadata": {},
   "outputs": [],
   "source": [
    "#%%B2011 计算分数的浮点数值\n",
    "a,b= input().split()\n",
    "a = int(a)\n",
    "b = int(b)\n",
    "x = a / b\n",
    "\n",
    "print(\"%.9f\" % x)"
   ]
  },
  {
   "cell_type": "code",
   "execution_count": null,
   "metadata": {},
   "outputs": [],
   "source": [
    "#%%B2012 甲流疫情死亡率\n",
    "a= input()\n",
    "b= input()\n",
    "a = int(a)\n",
    "b = int(b)\n",
    "x = b / a\n",
    "\n",
    "print(\"{:.3%}\".format(x))"
   ]
  },
  {
   "cell_type": "code",
   "execution_count": 7,
   "metadata": {},
   "outputs": [
    {
     "name": "stdout",
     "output_type": "stream",
     "text": [
      "5.00000\n"
     ]
    }
   ],
   "source": [
    "# B2013 温度表达转化\n",
    "F = input()\n",
    "F = float(F)\n",
    "C = 5 * (F-32)/9\n",
    "\n",
    "print(\"{:.5f}\".format(C))"
   ]
  },
  {
   "cell_type": "code",
   "execution_count": 9,
   "metadata": {},
   "outputs": [
    {
     "name": "stdout",
     "output_type": "stream",
     "text": [
      "6.0000 18.8495 28.2743\n"
     ]
    }
   ],
   "source": [
    "#B2014 与圆相关的计算\n",
    "r = input()\n",
    "r = float(r)\n",
    "pi_r = 3.14159\n",
    "d = 2 * r\n",
    "l = 2 * r * pi_r\n",
    "s = pi_r * r ** 2\n",
    "print(\"{0:.4f} {1:.4f} {2:.4f}\".format(d,l,s))"
   ]
  },
  {
   "cell_type": "code",
   "execution_count": 10,
   "metadata": {},
   "outputs": [
    {
     "name": "stdout",
     "output_type": "stream",
     "text": [
      "0.67\n"
     ]
    }
   ],
   "source": [
    "#B2015 计算并联电阻的阻值\n",
    "r_1, r_2 = input().split()\n",
    "r_1 = float(r_1)\n",
    "r_2 = float(r_2)\n",
    "\n",
    "R = 1/(1/r_1 + 1/r_2)\n",
    "print(\"{:.2f}\".format(R))"
   ]
  },
  {
   "cell_type": "code",
   "execution_count": 11,
   "metadata": {},
   "outputs": [
    {
     "name": "stdout",
     "output_type": "stream",
     "text": [
      "2\n"
     ]
    }
   ],
   "source": [
    "# B2016 浮点数向零舍入\n",
    "a = float(input())\n",
    "print(int(a))"
   ]
  },
  {
   "cell_type": "code",
   "execution_count": null,
   "metadata": {},
   "outputs": [
    {
     "name": "stdout",
     "output_type": "stream",
     "text": [
      "65\n"
     ]
    }
   ],
   "source": [
    "#B2017 打印 ASCII 码\n",
    "print(ord(input().strip()))          #使用ord函数将单个字符转换为ASCII码"
   ]
  },
  {
   "cell_type": "code",
   "execution_count": 14,
   "metadata": {},
   "outputs": [
    {
     "name": "stdout",
     "output_type": "stream",
     "text": [
      "A\n"
     ]
    }
   ],
   "source": [
    "#B2018 打印字符\n",
    "print(chr(int(input())))               #使用chr函数将ASCII码转换为单个字符"
   ]
  },
  {
   "cell_type": "code",
   "execution_count": 15,
   "metadata": {},
   "outputs": [
    {
     "name": "stdout",
     "output_type": "stream",
     "text": [
      "1\n"
     ]
    }
   ],
   "source": [
    "# B2019 整型与布尔型的转换\n",
    "a = int(input())\n",
    "print(int(bool(a)))"
   ]
  },
  {
   "cell_type": "code",
   "execution_count": null,
   "metadata": {},
   "outputs": [
    {
     "name": "stdout",
     "output_type": "stream",
     "text": [
      "11 7 9 11 6\n",
      "6\n"
     ]
    }
   ],
   "source": [
    "# B2020 分糖果\n",
    "a1,a2,a3,a4,a5 = input().split()\n",
    "a1 = int(a1); a2 = int(a2); a3 = int(a3); a4 = int(a4); a5 = int(a5); \n",
    "s = 0\n",
    "s += a1%3; a1 = a1//3; a2 += a1; a5 += a1; \n",
    "s += a2%3; a2 = a2//3; a3 += a2; a1 += a2; \n",
    "s += a3%3; a3 = a3//3; a4 += a3; a2 += a3; \n",
    "s += a4%3; a4 = a4//3; a5 += a4; a3 += a4; \n",
    "s += a5%3; a5 = a5//3; a1 += a5; a4 += a5; \n",
    "\n",
    "print(a1,a2,a3,a4,a5)\n",
    "print(s)\n",
    "\n"
   ]
  },
  {
   "cell_type": "code",
   "execution_count": 21,
   "metadata": {},
   "outputs": [
    {
     "name": "stdout",
     "output_type": "stream",
     "text": [
      "12.345\n"
     ]
    }
   ],
   "source": [
    "# B2021 输出保留 3 位小数的浮点数\n",
    "a = float(input())\n",
    "print(\"{:.3f}\".format(a))"
   ]
  },
  {
   "cell_type": "code",
   "execution_count": 22,
   "metadata": {},
   "outputs": [
    {
     "name": "stdout",
     "output_type": "stream",
     "text": [
      "3.141592653580\n"
     ]
    }
   ],
   "source": [
    "# B2022 输出保留 12 位小数的浮点数\n",
    "a = float(input())\n",
    "print(\"{:.12f}\".format(a))"
   ]
  },
  {
   "cell_type": "code",
   "execution_count": 23,
   "metadata": {},
   "outputs": [
    {
     "name": "stdout",
     "output_type": "stream",
     "text": [
      "a 12 2.300000 3.200000\n"
     ]
    }
   ],
   "source": [
    "# B2023 空格分隔输出\n",
    "a = input().strip()\n",
    "b = int(input())\n",
    "c = float(input())\n",
    "d = float(input())\n",
    "\n",
    "print(\"{0:s} {1:d} {2:.6f} {3:.6f}\".format(a,b,c,d))"
   ]
  },
  {
   "cell_type": "code",
   "execution_count": 25,
   "metadata": {},
   "outputs": [
    {
     "name": "stdout",
     "output_type": "stream",
     "text": [
      "12.345679\n",
      "12.34568\n",
      "1.234568e+01\n",
      "12.3457\n"
     ]
    }
   ],
   "source": [
    "# B2024 输出浮点数\n",
    "a = float(input())\n",
    "print(\"{:f}\".format(a))\n",
    "print(\"{:.5f}\".format(a))\n",
    "print(\"{:e}\".format(a))\n",
    "print(\"{:g}\".format(a))\n"
   ]
  },
  {
   "cell_type": "code",
   "execution_count": null,
   "metadata": {},
   "outputs": [],
   "source": [
    "# B2025 输出字符菱形\n",
    "print(\"  *\")\n",
    "print(\" ***\")\n",
    "print(\"*****\")\n",
    "print(\" ***\")\n",
    "print(\"  *\")"
   ]
  },
  {
   "cell_type": "code",
   "execution_count": null,
   "metadata": {},
   "outputs": [],
   "source": [
    "# B2026 计算浮点数相除的余\n",
    "a,b = input().split()\n",
    "a = float(a)\n",
    "b= float(b)\n",
    "print(a-int(a/b)*b)"
   ]
  },
  {
   "cell_type": "code",
   "execution_count": 2,
   "metadata": {},
   "outputs": [
    {
     "name": "stdout",
     "output_type": "stream",
     "text": [
      "523.33333\n"
     ]
    }
   ],
   "source": [
    "# B2027 计算球的体积\n",
    "r = int(input())\n",
    "pi_27 = 3.14\n",
    "V = 4/3 * pi_27 * r ** 3\n",
    "print(\"{:.5f}\".format(V))"
   ]
  },
  {
   "cell_type": "code",
   "execution_count": 5,
   "metadata": {},
   "outputs": [
    {
     "name": "stdout",
     "output_type": "stream",
     "text": [
      "100\n"
     ]
    }
   ],
   "source": [
    "# B2028 反向输出一个三位数\n",
    "n = input()\n",
    "\n",
    "n1 = n[0]\n",
    "n2 = n[1]\n",
    "n3 = n[2]\n",
    "\n",
    "P = n3+n2+n1\n",
    "print(P)"
   ]
  },
  {
   "cell_type": "code",
   "execution_count": 7,
   "metadata": {},
   "outputs": [
    {
     "name": "stdout",
     "output_type": "stream",
     "text": [
      "3\n"
     ]
    }
   ],
   "source": [
    "# B2029 大象喝水\n",
    "import math\n",
    "h,r = input().split()\n",
    "\n",
    "h = int(h)\n",
    "r = int(r)\n",
    "\n",
    "S = h*3.14*r**2\n",
    "print(math.ceil(20*10**3/S))"
   ]
  },
  {
   "cell_type": "code",
   "execution_count": 9,
   "metadata": {},
   "outputs": [
    {
     "name": "stdout",
     "output_type": "stream",
     "text": [
      "1.414\n"
     ]
    }
   ],
   "source": [
    "# B2030 计算线段长度\n",
    "import math\n",
    "Xa,Ya = input().split()\n",
    "Xb,Yb = input().split()\n",
    "Xa = float(Xa); Ya = float(Ya); \n",
    "Xb = float(Xb); Yb = float(Yb); \n",
    "\n",
    "length = math.sqrt((Xa-Xb)**2+(Ya-Yb)**2)\n",
    "print(\"{:.3f}\".format(length))"
   ]
  },
  {
   "cell_type": "code",
   "execution_count": 12,
   "metadata": {},
   "outputs": [
    {
     "name": "stdout",
     "output_type": "stream",
     "text": [
      "6.00\n"
     ]
    }
   ],
   "source": [
    "# B2031 计算三角形面积\n",
    "import math\n",
    "X1,Y1,X2,Y2,X3,Y3 = input().split()\n",
    "X1 = float(X1); Y1 = float(Y1); \n",
    "X2 = float(X2); Y2 = float(Y2); \n",
    "X3 = float(X3); Y3 = float(Y3); \n",
    "\n",
    "\n",
    "length1 = math.sqrt((X2-X3)**2+(Y2-Y3)**2)\n",
    "length2 = math.sqrt((X3-X1)**2+(Y3-Y1)**2)\n",
    "length3 = math.sqrt((X1-X2)**2+(Y1-Y2)**2)\n",
    "P = (length1+length2+length3)/2\n",
    "\n",
    "S = math.sqrt(P*(P-length1)*(P-length2)*(P-length3))         #海伦公式，已知三边长求三角形面积\n",
    "\n",
    "print(\"{:.2f}\".format(S))"
   ]
  },
  {
   "cell_type": "code",
   "execution_count": 13,
   "metadata": {},
   "outputs": [
    {
     "name": "stdout",
     "output_type": "stream",
     "text": [
      "298\n"
     ]
    }
   ],
   "source": [
    "# B2032 等差数列末项计算\n",
    "a1,a2,n= input().split()\n",
    "a1 = int(a1); a2 = int(a2); n = int(n)\n",
    "d = a2 - a1\n",
    "an = a1 + (n-1)*d\n",
    "print(an)"
   ]
  },
  {
   "cell_type": "code",
   "execution_count": 14,
   "metadata": {},
   "outputs": [
    {
     "name": "stdout",
     "output_type": "stream",
     "text": [
      "648\n"
     ]
    }
   ],
   "source": [
    "# B2033 A*B 问题\n",
    "a,b= input().split()\n",
    "a = int(a); b = int(b)\n",
    "\n",
    "print(a*b)"
   ]
  },
  {
   "cell_type": "code",
   "execution_count": 15,
   "metadata": {},
   "outputs": [
    {
     "name": "stdout",
     "output_type": "stream",
     "text": [
      "8\n"
     ]
    }
   ],
   "source": [
    "# B2034 计算 2 的幂\n",
    "n= int(input())\n",
    "\n",
    "print(2**n)\n"
   ]
  },
  {
   "cell_type": "code",
   "execution_count": 16,
   "metadata": {},
   "outputs": [
    {
     "name": "stdout",
     "output_type": "stream",
     "text": [
      "positive\n"
     ]
    }
   ],
   "source": [
    "# B2035 判断数正负\n",
    "N= int(input())\n",
    "if N > 0:\n",
    "    print(\"positive\")\n",
    "elif N < 0:\n",
    "    print(\"negative\")\n",
    "else:\n",
    "    print(\"zero\")"
   ]
  },
  {
   "cell_type": "code",
   "execution_count": 17,
   "metadata": {},
   "outputs": [
    {
     "name": "stdout",
     "output_type": "stream",
     "text": [
      "3.14\n"
     ]
    }
   ],
   "source": [
    "# B2036 输出绝对值\n",
    "n = float(input())\n",
    "print(\"{:.2f}\".format(abs(n)))"
   ]
  },
  {
   "cell_type": "code",
   "execution_count": null,
   "metadata": {},
   "outputs": [],
   "source": [
    "# B2037 奇偶数判断\n",
    "N= int(input())\n",
    "if N % 2 == 1:\n",
    "    print(\"odd\")\n",
    "else:\n",
    "    print(\"even\")"
   ]
  },
  {
   "cell_type": "code",
   "execution_count": 18,
   "metadata": {},
   "outputs": [
    {
     "name": "stdout",
     "output_type": "stream",
     "text": [
      "YES\n"
     ]
    }
   ],
   "source": [
    "# B2038 奇偶 ASCII 值判断\n",
    "ascii1 = ord(input().strip())\n",
    "if ascii1 % 2 == 1:\n",
    "    print(\"YES\")\n",
    "else:\n",
    "    print(\"NO\")\n"
   ]
  },
  {
   "cell_type": "code",
   "execution_count": 20,
   "metadata": {},
   "outputs": [
    {
     "name": "stdout",
     "output_type": "stream",
     "text": [
      ">\n"
     ]
    }
   ],
   "source": [
    "# B2039 整数大小比较\n",
    "a,b= input().split()\n",
    "a = int(a); b = int(b)\n",
    "if a > b:\n",
    "    print(\">\")\n",
    "elif a == b:\n",
    "    print(\"=\")\n",
    "else:\n",
    "    print(\"<\")"
   ]
  },
  {
   "cell_type": "code",
   "execution_count": 21,
   "metadata": {},
   "outputs": [
    {
     "name": "stdout",
     "output_type": "stream",
     "text": [
      "1\n"
     ]
    }
   ],
   "source": [
    "# B2040 判断是否为两位数\n",
    "a= int(input())\n",
    "\n",
    "if a > 9 and a < 100:\n",
    "    print(1)\n",
    "else:\n",
    "    print(0)"
   ]
  },
  {
   "cell_type": "code",
   "execution_count": 22,
   "metadata": {},
   "outputs": [
    {
     "name": "stdout",
     "output_type": "stream",
     "text": [
      "1\n"
     ]
    }
   ],
   "source": [
    "# B2041 收集瓶盖赢大奖\n",
    "a,b= input().split()\n",
    "a = int(a); b = int(b)\n",
    "\n",
    "if a >= 10 or b >= 20:\n",
    "    print(1)\n",
    "else:\n",
    "    print(0)"
   ]
  },
  {
   "cell_type": "code",
   "execution_count": 23,
   "metadata": {},
   "outputs": [
    {
     "name": "stdout",
     "output_type": "stream",
     "text": [
      "YES\n"
     ]
    }
   ],
   "source": [
    "# B2042 判断一个数能否同时被 3 和 5 整除\n",
    "a= input()\n",
    "a = int(a)\n",
    "\n",
    "if a % 3 == 0 and a % 5 == 0:\n",
    "    print(\"YES\")\n",
    "else:\n",
    "    print(\"NO\")"
   ]
  },
  {
   "cell_type": "code",
   "execution_count": 24,
   "metadata": {},
   "outputs": [
    {
     "name": "stdout",
     "output_type": "stream",
     "text": [
      "3 5 7\n"
     ]
    }
   ],
   "source": [
    "# B2043 判断能否被 3，5，7 整除\n",
    "a= input()\n",
    "a = int(a)\n",
    "if a % 3 == 0 and a % 5 == 0 and a % 7 == 0:\n",
    "    print(3,5,7)\n",
    "elif a % 3 == 0 and a % 5 == 0:\n",
    "    print(3,5)\n",
    "elif a % 3 == 0 and a % 7 == 0:\n",
    "    print(3,7)\n",
    "elif a % 5 == 0 and a % 7 == 0:\n",
    "    print(5,7)\n",
    "elif a % 3 == 0:\n",
    "    print(3)\n",
    "elif a % 5 == 0:\n",
    "    print(5)\n",
    "elif a % 7 == 0:\n",
    "    print(7)\n",
    "else:\n",
    "    print(\"n\")"
   ]
  },
  {
   "cell_type": "code",
   "execution_count": null,
   "metadata": {},
   "outputs": [],
   "source": [
    "# B2044 有一门课不及格的学生\n",
    "a,b,c= input().split()\n",
    "a = int(a); b = int(b); c = int(c)\n",
    "if a < 60  and b >= 60  and c >= 60:\n",
    "    print(1)\n",
    "elif a >= 60  and b < 60  and c >= 60:\n",
    "    print(1)\n",
    "elif a >= 60  and b >= 60  and c < 60:\n",
    "    print(1)\n",
    "else:\n",
    "    print(0)"
   ]
  },
  {
   "cell_type": "code",
   "execution_count": 28,
   "metadata": {},
   "outputs": [
    {
     "name": "stdout",
     "output_type": "stream",
     "text": [
      "YES\n"
     ]
    }
   ],
   "source": [
    "# B2045 晶晶赴约会\n",
    "n= int(input())\n",
    "\n",
    "if n in [1,3,5]:\n",
    "    print(\"NO\")\n",
    "else:\n",
    "    print(\"YES\")"
   ]
  },
  {
   "cell_type": "code",
   "execution_count": 30,
   "metadata": {},
   "outputs": [
    {
     "name": "stdout",
     "output_type": "stream",
     "text": [
      "Walk\n"
     ]
    }
   ],
   "source": [
    "# B2046 骑车与走路\n",
    "length= int(input())\n",
    "\n",
    "Bike_time = 27 + 23 + length/3\n",
    "Walk_time = length/1.2\n",
    "\n",
    "if Bike_time < Walk_time:\n",
    "    print(\"Bike\")\n",
    "elif Bike_time > Walk_time:\n",
    "    print(\"Walk\")\n",
    "else:\n",
    "    print(\"All\")"
   ]
  },
  {
   "cell_type": "code",
   "execution_count": 32,
   "metadata": {},
   "outputs": [
    {
     "name": "stdout",
     "output_type": "stream",
     "text": [
      "1.500\n"
     ]
    }
   ],
   "source": [
    "# B2047 分段函数\n",
    "x = float(input())\n",
    "\n",
    "if x >= 0 and x < 5:\n",
    "    y = -x+2.5\n",
    "elif  x >= 5 and x < 10:\n",
    "    y = 2-1.5*(x-3)*(x-3)\n",
    "else:\n",
    "    y = x/2-1.5\n",
    "print(\"{:.3f}\".format(y))"
   ]
  },
  {
   "cell_type": "code",
   "execution_count": 33,
   "metadata": {},
   "outputs": [
    {
     "name": "stdout",
     "output_type": "stream",
     "text": [
      "17\n"
     ]
    }
   ],
   "source": [
    "# B2048 计算邮资\n",
    "import math\n",
    "x,c= input().split()\n",
    "x = int(x); \n",
    "\n",
    "\n",
    "if x <= 1000:\n",
    "    y = 8\n",
    "else:\n",
    "    y = 8 + math.ceil((x-1000)/500) *4 \n",
    "if c == 'y':\n",
    "    y = y + 5\n",
    "print(y)"
   ]
  },
  {
   "cell_type": "code",
   "execution_count": 41,
   "metadata": {},
   "outputs": [
    {
     "name": "stdout",
     "output_type": "stream",
     "text": [
      "56\n"
     ]
    }
   ],
   "source": [
    "# B2049 最大数输出\n",
    "a,b,c = input().split()\n",
    "a = int(a); b = int(b); c = int(c)\n",
    "if a>=b and a>=c:\n",
    "    print(a)\n",
    "elif b>=c:\n",
    "    print(b)\n",
    "else:\n",
    "    print(c)\n"
   ]
  },
  {
   "cell_type": "code",
   "execution_count": 44,
   "metadata": {},
   "outputs": [
    {
     "name": "stdout",
     "output_type": "stream",
     "text": [
      "0\n"
     ]
    }
   ],
   "source": [
    "# B2050 三角形判断\n",
    "a,b,c = input().split()\n",
    "a = int(a); b = int(b); c = int(c)\n",
    "\n",
    "if a>=b and a>=c:\n",
    "    if b + c > a:\n",
    "        print(1)\n",
    "    else:\n",
    "        print(0)\n",
    "elif b>=c:\n",
    "    if a + c > b:\n",
    "        print(1)\n",
    "    else:\n",
    "        print(0)\n",
    "else:\n",
    "    if b + a > c:\n",
    "        print(1)\n",
    "    else:\n",
    "        print(0)"
   ]
  }
 ],
 "metadata": {
  "kernelspec": {
   "display_name": "base",
   "language": "python",
   "name": "python3"
  },
  "language_info": {
   "codemirror_mode": {
    "name": "ipython",
    "version": 3
   },
   "file_extension": ".py",
   "mimetype": "text/x-python",
   "name": "python",
   "nbconvert_exporter": "python",
   "pygments_lexer": "ipython3",
   "version": "3.12.7"
  }
 },
 "nbformat": 4,
 "nbformat_minor": 2
}
